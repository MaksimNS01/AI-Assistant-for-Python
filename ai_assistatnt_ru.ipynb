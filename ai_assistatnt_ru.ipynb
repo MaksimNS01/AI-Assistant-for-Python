{
  "nbformat": 4,
  "nbformat_minor": 0,
  "metadata": {
    "colab": {
      "provenance": [],
      "gpuType": "T4"
    },
    "kernelspec": {
      "name": "python3",
      "display_name": "Python 3"
    },
    "language_info": {
      "name": "python"
    },
    "accelerator": "GPU"
  },
  "cells": [
    {
      "cell_type": "markdown",
      "source": [
        "# Описание"
      ],
      "metadata": {
        "id": "u5yVEPd7gl1B"
      }
    },
    {
      "cell_type": "markdown",
      "source": [
        "Нейро-помощник представляет собой систему, основанную на модели Saiga Mistral 7B, обученной на наборе данных, состоящем из книг по разработке на Python. Этот помощник предназначен для предоставления поддержки разработчикам, работающим с языком программирования Python, и может отвечать на широкий спектр вопросов, связанных с Python, от базовых концепций до продвинутых техник и практик."
      ],
      "metadata": {
        "id": "qjJSvPIBb4Vv"
      }
    },
    {
      "cell_type": "markdown",
      "source": [
        "# Нейро-сотрудник"
      ],
      "metadata": {
        "id": "uf_CAVto_OPY"
      }
    },
    {
      "cell_type": "markdown",
      "source": [
        "# Установка необходимых библиотек и зависимостей"
      ],
      "metadata": {
        "id": "SIT-kpSaILck"
      }
    },
    {
      "cell_type": "code",
      "source": [
        "%%writefile requirements.txt\n",
        "transformers>=4.42.0\n",
        "llama_index\n",
        "Ipython==7.34.0\n",
        "langchain\n",
        "pypdf==4.2.0\n",
        "langchain_community==0.2.5\n",
        "llama-index-llms-huggingface==0.2.3\n",
        "llama-index-embeddings-huggingface==0.2.2\n",
        "llama-index-embeddings-langchain==0.1.2\n",
        "langchain-huggingface==0.0.3\n",
        "sentencepiece==0.1.99\n",
        "accelerate==0.31.0\n",
        "bitsandbytes==0.43.1\n",
        "peft==0.11.1\n",
        "nemoguardrails\n",
        "nest_asyncio==1.6.0\n",
        "llama-hub\n",
        "llama-index-retrievers-bm25\n",
        "\n",
        "# Зависимости\n",
        "huggingface-hub==0.23.3\n",
        "torch>=2.3.1\n",
        "numpy==1.25.2\n",
        "packaging==24.1\n",
        "pyyaml==6.0.1\n",
        "requests==2.31.0\n",
        "tqdm==4.66.4\n",
        "filelock==3.14.0\n",
        "regex==2024.5.15\n",
        "typing-extensions==4.12.2\n",
        "safetensors==0.4.3\n",
        "tokenizers==0.19.1\n",
        "pydantic==2.10.3\n",
        "triton==2.3.1"
      ],
      "metadata": {
        "id": "nFDpSHxjIND7",
        "colab": {
          "base_uri": "https://localhost:8080/"
        },
        "outputId": "cfc48526-cead-40f0-bd60-2ac4af879579"
      },
      "execution_count": null,
      "outputs": [
        {
          "output_type": "stream",
          "name": "stdout",
          "text": [
            "Writing requirements.txt\n"
          ]
        }
      ]
    },
    {
      "cell_type": "code",
      "source": [
        "!pip install -r requirements.txt"
      ],
      "metadata": {
        "id": "lWfKa8y4IRP0",
        "colab": {
          "base_uri": "https://localhost:8080/",
          "height": 1000
        },
        "outputId": "351193cb-de81-4a4f-9bd0-a607d0f39a35"
      },
      "execution_count": null,
      "outputs": [
        {
          "output_type": "stream",
          "name": "stdout",
          "text": [
            "Requirement already satisfied: transformers>=4.42.0 in /usr/local/lib/python3.11/dist-packages (from -r requirements.txt (line 1)) (4.51.3)\n",
            "Collecting llama_index (from -r requirements.txt (line 2))\n",
            "  Downloading llama_index-0.12.31-py3-none-any.whl.metadata (12 kB)\n",
            "Requirement already satisfied: Ipython==7.34.0 in /usr/local/lib/python3.11/dist-packages (from -r requirements.txt (line 3)) (7.34.0)\n",
            "Requirement already satisfied: langchain in /usr/local/lib/python3.11/dist-packages (from -r requirements.txt (line 4)) (0.3.23)\n",
            "Collecting pypdf==4.2.0 (from -r requirements.txt (line 5))\n",
            "  Downloading pypdf-4.2.0-py3-none-any.whl.metadata (7.4 kB)\n",
            "Collecting langchain_community==0.2.5 (from -r requirements.txt (line 6))\n",
            "  Downloading langchain_community-0.2.5-py3-none-any.whl.metadata (2.5 kB)\n",
            "Collecting llama-index-llms-huggingface==0.2.3 (from -r requirements.txt (line 7))\n",
            "  Downloading llama_index_llms_huggingface-0.2.3-py3-none-any.whl.metadata (790 bytes)\n",
            "Collecting llama-index-embeddings-huggingface==0.2.2 (from -r requirements.txt (line 8))\n",
            "  Downloading llama_index_embeddings_huggingface-0.2.2-py3-none-any.whl.metadata (769 bytes)\n",
            "Collecting llama-index-embeddings-langchain==0.1.2 (from -r requirements.txt (line 9))\n",
            "  Downloading llama_index_embeddings_langchain-0.1.2-py3-none-any.whl.metadata (663 bytes)\n",
            "Collecting langchain-huggingface==0.0.3 (from -r requirements.txt (line 10))\n",
            "  Downloading langchain_huggingface-0.0.3-py3-none-any.whl.metadata (1.2 kB)\n",
            "Collecting sentencepiece==0.1.99 (from -r requirements.txt (line 11))\n",
            "  Downloading sentencepiece-0.1.99-cp311-cp311-manylinux_2_17_x86_64.manylinux2014_x86_64.whl.metadata (7.7 kB)\n",
            "Collecting accelerate==0.31.0 (from -r requirements.txt (line 12))\n",
            "  Downloading accelerate-0.31.0-py3-none-any.whl.metadata (19 kB)\n",
            "Collecting bitsandbytes==0.43.1 (from -r requirements.txt (line 13))\n",
            "  Downloading bitsandbytes-0.43.1-py3-none-manylinux_2_24_x86_64.whl.metadata (2.2 kB)\n",
            "Collecting peft==0.11.1 (from -r requirements.txt (line 14))\n",
            "  Downloading peft-0.11.1-py3-none-any.whl.metadata (13 kB)\n",
            "Collecting nemoguardrails (from -r requirements.txt (line 15))\n",
            "  Downloading nemoguardrails-0.13.0-py3-none-any.whl.metadata (22 kB)\n",
            "Requirement already satisfied: nest_asyncio==1.6.0 in /usr/local/lib/python3.11/dist-packages (from -r requirements.txt (line 16)) (1.6.0)\n",
            "Collecting llama-hub (from -r requirements.txt (line 17))\n",
            "  Downloading llama_hub-0.0.79.post1-py3-none-any.whl.metadata (16 kB)\n",
            "Collecting llama-index-retrievers-bm25 (from -r requirements.txt (line 18))\n",
            "  Downloading llama_index_retrievers_bm25-0.5.2-py3-none-any.whl.metadata (740 bytes)\n",
            "Collecting huggingface-hub==0.23.3 (from -r requirements.txt (line 21))\n",
            "  Downloading huggingface_hub-0.23.3-py3-none-any.whl.metadata (12 kB)\n",
            "Requirement already satisfied: torch>=2.3.1 in /usr/local/lib/python3.11/dist-packages (from -r requirements.txt (line 22)) (2.6.0+cu124)\n",
            "Collecting numpy==1.25.2 (from -r requirements.txt (line 23))\n",
            "  Downloading numpy-1.25.2-cp311-cp311-manylinux_2_17_x86_64.manylinux2014_x86_64.whl.metadata (5.6 kB)\n",
            "Collecting packaging==24.1 (from -r requirements.txt (line 24))\n",
            "  Downloading packaging-24.1-py3-none-any.whl.metadata (3.2 kB)\n",
            "Collecting pyyaml==6.0.1 (from -r requirements.txt (line 25))\n",
            "  Downloading PyYAML-6.0.1-cp311-cp311-manylinux_2_17_x86_64.manylinux2014_x86_64.whl.metadata (2.1 kB)\n",
            "Collecting requests==2.31.0 (from -r requirements.txt (line 26))\n",
            "  Downloading requests-2.31.0-py3-none-any.whl.metadata (4.6 kB)\n",
            "Collecting tqdm==4.66.4 (from -r requirements.txt (line 27))\n",
            "  Downloading tqdm-4.66.4-py3-none-any.whl.metadata (57 kB)\n",
            "\u001b[2K     \u001b[90m━━━━━━━━━━━━━━━━━━━━━━━━━━━━━━━━━━━━━━━━\u001b[0m \u001b[32m57.6/57.6 kB\u001b[0m \u001b[31m4.6 MB/s\u001b[0m eta \u001b[36m0:00:00\u001b[0m\n",
            "\u001b[?25hCollecting filelock==3.14.0 (from -r requirements.txt (line 28))\n",
            "  Downloading filelock-3.14.0-py3-none-any.whl.metadata (2.8 kB)\n",
            "Collecting regex==2024.5.15 (from -r requirements.txt (line 29))\n",
            "  Downloading regex-2024.5.15-cp311-cp311-manylinux_2_17_x86_64.manylinux2014_x86_64.whl.metadata (40 kB)\n",
            "\u001b[2K     \u001b[90m━━━━━━━━━━━━━━━━━━━━━━━━━━━━━━━━━━━━━━━━\u001b[0m \u001b[32m40.9/40.9 kB\u001b[0m \u001b[31m3.6 MB/s\u001b[0m eta \u001b[36m0:00:00\u001b[0m\n",
            "\u001b[?25hCollecting typing-extensions==4.12.2 (from -r requirements.txt (line 30))\n",
            "  Downloading typing_extensions-4.12.2-py3-none-any.whl.metadata (3.0 kB)\n",
            "Collecting safetensors==0.4.3 (from -r requirements.txt (line 31))\n",
            "  Downloading safetensors-0.4.3-cp311-cp311-manylinux_2_17_x86_64.manylinux2014_x86_64.whl.metadata (3.8 kB)\n",
            "Collecting tokenizers==0.19.1 (from -r requirements.txt (line 32))\n",
            "  Downloading tokenizers-0.19.1-cp311-cp311-manylinux_2_17_x86_64.manylinux2014_x86_64.whl.metadata (6.7 kB)\n",
            "Collecting pydantic==2.10.3 (from -r requirements.txt (line 33))\n",
            "  Downloading pydantic-2.10.3-py3-none-any.whl.metadata (172 kB)\n",
            "\u001b[2K     \u001b[90m━━━━━━━━━━━━━━━━━━━━━━━━━━━━━━━━━━━━━━\u001b[0m \u001b[32m172.0/172.0 kB\u001b[0m \u001b[31m12.8 MB/s\u001b[0m eta \u001b[36m0:00:00\u001b[0m\n",
            "\u001b[?25hCollecting triton==2.3.1 (from -r requirements.txt (line 34))\n",
            "  Downloading triton-2.3.1-cp311-cp311-manylinux_2_17_x86_64.manylinux2014_x86_64.whl.metadata (1.4 kB)\n",
            "Requirement already satisfied: setuptools>=18.5 in /usr/local/lib/python3.11/dist-packages (from Ipython==7.34.0->-r requirements.txt (line 3)) (75.2.0)\n",
            "Collecting jedi>=0.16 (from Ipython==7.34.0->-r requirements.txt (line 3))\n",
            "  Downloading jedi-0.19.2-py2.py3-none-any.whl.metadata (22 kB)\n",
            "Requirement already satisfied: decorator in /usr/local/lib/python3.11/dist-packages (from Ipython==7.34.0->-r requirements.txt (line 3)) (4.4.2)\n",
            "Requirement already satisfied: pickleshare in /usr/local/lib/python3.11/dist-packages (from Ipython==7.34.0->-r requirements.txt (line 3)) (0.7.5)\n",
            "Requirement already satisfied: traitlets>=4.2 in /usr/local/lib/python3.11/dist-packages (from Ipython==7.34.0->-r requirements.txt (line 3)) (5.7.1)\n",
            "Requirement already satisfied: prompt-toolkit!=3.0.0,!=3.0.1,<3.1.0,>=2.0.0 in /usr/local/lib/python3.11/dist-packages (from Ipython==7.34.0->-r requirements.txt (line 3)) (3.0.51)\n",
            "Requirement already satisfied: pygments in /usr/local/lib/python3.11/dist-packages (from Ipython==7.34.0->-r requirements.txt (line 3)) (2.18.0)\n",
            "Requirement already satisfied: backcall in /usr/local/lib/python3.11/dist-packages (from Ipython==7.34.0->-r requirements.txt (line 3)) (0.2.0)\n",
            "Requirement already satisfied: matplotlib-inline in /usr/local/lib/python3.11/dist-packages (from Ipython==7.34.0->-r requirements.txt (line 3)) (0.1.7)\n",
            "Requirement already satisfied: pexpect>4.3 in /usr/local/lib/python3.11/dist-packages (from Ipython==7.34.0->-r requirements.txt (line 3)) (4.9.0)\n",
            "Requirement already satisfied: SQLAlchemy<3,>=1.4 in /usr/local/lib/python3.11/dist-packages (from langchain_community==0.2.5->-r requirements.txt (line 6)) (2.0.40)\n",
            "Requirement already satisfied: aiohttp<4.0.0,>=3.8.3 in /usr/local/lib/python3.11/dist-packages (from langchain_community==0.2.5->-r requirements.txt (line 6)) (3.11.15)\n",
            "Collecting dataclasses-json<0.7,>=0.5.7 (from langchain_community==0.2.5->-r requirements.txt (line 6))\n",
            "  Downloading dataclasses_json-0.6.7-py3-none-any.whl.metadata (25 kB)\n",
            "Collecting langchain (from -r requirements.txt (line 4))\n",
            "  Downloading langchain-0.2.17-py3-none-any.whl.metadata (7.1 kB)\n",
            "Collecting langchain-core<0.3.0,>=0.2.7 (from langchain_community==0.2.5->-r requirements.txt (line 6))\n",
            "  Downloading langchain_core-0.2.43-py3-none-any.whl.metadata (6.2 kB)\n",
            "Collecting langsmith<0.2.0,>=0.1.0 (from langchain_community==0.2.5->-r requirements.txt (line 6))\n",
            "  Downloading langsmith-0.1.147-py3-none-any.whl.metadata (14 kB)\n",
            "Collecting tenacity<9.0.0,>=8.1.0 (from langchain_community==0.2.5->-r requirements.txt (line 6))\n",
            "  Downloading tenacity-8.5.0-py3-none-any.whl.metadata (1.2 kB)\n",
            "Collecting llama-index-core<0.11.0,>=0.10.41 (from llama-index-llms-huggingface==0.2.3->-r requirements.txt (line 7))\n",
            "  Downloading llama_index_core-0.10.68.post1-py3-none-any.whl.metadata (2.5 kB)\n",
            "Collecting text-generation<0.8.0,>=0.7.0 (from llama-index-llms-huggingface==0.2.3->-r requirements.txt (line 7))\n",
            "  Downloading text_generation-0.7.0-py3-none-any.whl.metadata (8.5 kB)\n",
            "Requirement already satisfied: sentence-transformers>=2.6.1 in /usr/local/lib/python3.11/dist-packages (from llama-index-embeddings-huggingface==0.2.2->-r requirements.txt (line 8)) (3.4.1)\n",
            "Requirement already satisfied: psutil in /usr/local/lib/python3.11/dist-packages (from accelerate==0.31.0->-r requirements.txt (line 12)) (5.9.5)\n",
            "Requirement already satisfied: fsspec>=2023.5.0 in /usr/local/lib/python3.11/dist-packages (from huggingface-hub==0.23.3->-r requirements.txt (line 21)) (2025.3.2)\n",
            "Requirement already satisfied: charset-normalizer<4,>=2 in /usr/local/lib/python3.11/dist-packages (from requests==2.31.0->-r requirements.txt (line 26)) (3.4.1)\n",
            "Requirement already satisfied: idna<4,>=2.5 in /usr/local/lib/python3.11/dist-packages (from requests==2.31.0->-r requirements.txt (line 26)) (3.10)\n",
            "Requirement already satisfied: urllib3<3,>=1.21.1 in /usr/local/lib/python3.11/dist-packages (from requests==2.31.0->-r requirements.txt (line 26)) (2.3.0)\n",
            "Requirement already satisfied: certifi>=2017.4.17 in /usr/local/lib/python3.11/dist-packages (from requests==2.31.0->-r requirements.txt (line 26)) (2025.1.31)\n",
            "Requirement already satisfied: annotated-types>=0.6.0 in /usr/local/lib/python3.11/dist-packages (from pydantic==2.10.3->-r requirements.txt (line 33)) (0.7.0)\n",
            "Collecting pydantic-core==2.27.1 (from pydantic==2.10.3->-r requirements.txt (line 33))\n",
            "  Downloading pydantic_core-2.27.1-cp311-cp311-manylinux_2_17_x86_64.manylinux2014_x86_64.whl.metadata (6.6 kB)\n",
            "INFO: pip is looking at multiple versions of transformers to determine which version is compatible with other requirements. This could take a while.\n",
            "Collecting transformers>=4.42.0 (from -r requirements.txt (line 1))\n",
            "  Downloading transformers-4.51.2-py3-none-any.whl.metadata (38 kB)\n",
            "  Downloading transformers-4.51.1-py3-none-any.whl.metadata (38 kB)\n",
            "  Downloading transformers-4.51.0-py3-none-any.whl.metadata (38 kB)\n",
            "  Downloading transformers-4.50.3-py3-none-any.whl.metadata (39 kB)\n",
            "  Downloading transformers-4.50.2-py3-none-any.whl.metadata (39 kB)\n",
            "  Downloading transformers-4.50.1-py3-none-any.whl.metadata (39 kB)\n",
            "  Downloading transformers-4.50.0-py3-none-any.whl.metadata (39 kB)\n",
            "INFO: pip is still looking at multiple versions of transformers to determine which version is compatible with other requirements. This could take a while.\n",
            "  Downloading transformers-4.49.0-py3-none-any.whl.metadata (44 kB)\n",
            "\u001b[2K     \u001b[90m━━━━━━━━━━━━━━━━━━━━━━━━━━━━━━━━━━━━━━━━\u001b[0m \u001b[32m44.0/44.0 kB\u001b[0m \u001b[31m2.1 MB/s\u001b[0m eta \u001b[36m0:00:00\u001b[0m\n",
            "\u001b[?25h  Downloading transformers-4.48.3-py3-none-any.whl.metadata (44 kB)\n",
            "\u001b[2K     \u001b[90m━━━━━━━━━━━━━━━━━━━━━━━━━━━━━━━━━━━━━━━━\u001b[0m \u001b[32m44.4/44.4 kB\u001b[0m \u001b[31m4.2 MB/s\u001b[0m eta \u001b[36m0:00:00\u001b[0m\n",
            "\u001b[?25h  Downloading transformers-4.48.2-py3-none-any.whl.metadata (44 kB)\n",
            "\u001b[2K     \u001b[90m━━━━━━━━━━━━━━━━━━━━━━━━━━━━━━━━━━━━━━━━\u001b[0m \u001b[32m44.4/44.4 kB\u001b[0m \u001b[31m4.0 MB/s\u001b[0m eta \u001b[36m0:00:00\u001b[0m\n",
            "\u001b[?25h  Downloading transformers-4.48.1-py3-none-any.whl.metadata (44 kB)\n",
            "\u001b[2K     \u001b[90m━━━━━━━━━━━━━━━━━━━━━━━━━━━━━━━━━━━━━━━━\u001b[0m \u001b[32m44.4/44.4 kB\u001b[0m \u001b[31m3.9 MB/s\u001b[0m eta \u001b[36m0:00:00\u001b[0m\n",
            "\u001b[?25h  Downloading transformers-4.48.0-py3-none-any.whl.metadata (44 kB)\n",
            "\u001b[2K     \u001b[90m━━━━━━━━━━━━━━━━━━━━━━━━━━━━━━━━━━━━━━━━\u001b[0m \u001b[32m44.4/44.4 kB\u001b[0m \u001b[31m3.9 MB/s\u001b[0m eta \u001b[36m0:00:00\u001b[0m\n",
            "\u001b[?25hINFO: This is taking longer than usual. You might need to provide the dependency resolver with stricter constraints to reduce runtime. See https://pip.pypa.io/warnings/backtracking for guidance. If you want to abort this run, press Ctrl + C.\n",
            "  Downloading transformers-4.47.1-py3-none-any.whl.metadata (44 kB)\n",
            "\u001b[2K     \u001b[90m━━━━━━━━━━━━━━━━━━━━━━━━━━━━━━━━━━━━━━━━\u001b[0m \u001b[32m44.1/44.1 kB\u001b[0m \u001b[31m3.8 MB/s\u001b[0m eta \u001b[36m0:00:00\u001b[0m\n",
            "\u001b[?25h  Downloading transformers-4.47.0-py3-none-any.whl.metadata (43 kB)\n",
            "\u001b[2K     \u001b[90m━━━━━━━━━━━━━━━━━━━━━━━━━━━━━━━━━━━━━━━━\u001b[0m \u001b[32m43.5/43.5 kB\u001b[0m \u001b[31m3.7 MB/s\u001b[0m eta \u001b[36m0:00:00\u001b[0m\n",
            "\u001b[?25h  Downloading transformers-4.46.3-py3-none-any.whl.metadata (44 kB)\n",
            "\u001b[2K     \u001b[90m━━━━━━━━━━━━━━━━━━━━━━━━━━━━━━━━━━━━━━━━\u001b[0m \u001b[32m44.1/44.1 kB\u001b[0m \u001b[31m3.8 MB/s\u001b[0m eta \u001b[36m0:00:00\u001b[0m\n",
            "\u001b[?25h  Downloading transformers-4.46.2-py3-none-any.whl.metadata (44 kB)\n",
            "\u001b[2K     \u001b[90m━━━━━━━━━━━━━━━━━━━━━━━━━━━━━━━━━━━━━━━━\u001b[0m \u001b[32m44.1/44.1 kB\u001b[0m \u001b[31m4.0 MB/s\u001b[0m eta \u001b[36m0:00:00\u001b[0m\n",
            "\u001b[?25h  Downloading transformers-4.46.1-py3-none-any.whl.metadata (44 kB)\n",
            "\u001b[2K     \u001b[90m━━━━━━━━━━━━━━━━━━━━━━━━━━━━━━━━━━━━━━━━\u001b[0m \u001b[32m44.1/44.1 kB\u001b[0m \u001b[31m4.2 MB/s\u001b[0m eta \u001b[36m0:00:00\u001b[0m\n",
            "\u001b[?25h  Downloading transformers-4.45.2-py3-none-any.whl.metadata (44 kB)\n",
            "\u001b[2K     \u001b[90m━━━━━━━━━━━━━━━━━━━━━━━━━━━━━━━━━━━━━━━━\u001b[0m \u001b[32m44.4/44.4 kB\u001b[0m \u001b[31m2.4 MB/s\u001b[0m eta \u001b[36m0:00:00\u001b[0m\n",
            "\u001b[?25h  Downloading transformers-4.45.1-py3-none-any.whl.metadata (44 kB)\n",
            "\u001b[2K     \u001b[90m━━━━━━━━━━━━━━━━━━━━━━━━━━━━━━━━━━━━━━━━\u001b[0m \u001b[32m44.4/44.4 kB\u001b[0m \u001b[31m4.2 MB/s\u001b[0m eta \u001b[36m0:00:00\u001b[0m\n",
            "\u001b[?25h  Downloading transformers-4.45.0-py3-none-any.whl.metadata (44 kB)\n",
            "\u001b[2K     \u001b[90m━━━━━━━━━━━━━━━━━━━━━━━━━━━━━━━━━━━━━━━━\u001b[0m \u001b[32m44.4/44.4 kB\u001b[0m \u001b[31m4.5 MB/s\u001b[0m eta \u001b[36m0:00:00\u001b[0m\n",
            "\u001b[?25h  Downloading transformers-4.44.2-py3-none-any.whl.metadata (43 kB)\n",
            "\u001b[2K     \u001b[90m━━━━━━━━━━━━━━━━━━━━━━━━━━━━━━━━━━━━━━━━\u001b[0m \u001b[32m43.7/43.7 kB\u001b[0m \u001b[31m3.9 MB/s\u001b[0m eta \u001b[36m0:00:00\u001b[0m\n",
            "\u001b[?25hCollecting llama-index-agent-openai<0.5.0,>=0.4.0 (from llama_index->-r requirements.txt (line 2))\n",
            "  Downloading llama_index_agent_openai-0.4.6-py3-none-any.whl.metadata (727 bytes)\n",
            "Collecting llama-index-cli<0.5.0,>=0.4.1 (from llama_index->-r requirements.txt (line 2))\n",
            "  Downloading llama_index_cli-0.4.1-py3-none-any.whl.metadata (1.5 kB)\n",
            "INFO: pip is looking at multiple versions of llama-index to determine which version is compatible with other requirements. This could take a while.\n",
            "Collecting llama_index (from -r requirements.txt (line 2))\n",
            "  Downloading llama_index-0.12.30-py3-none-any.whl.metadata (12 kB)\n",
            "  Downloading llama_index-0.12.29-py3-none-any.whl.metadata (12 kB)\n",
            "  Downloading llama_index-0.12.28-py3-none-any.whl.metadata (12 kB)\n",
            "  Downloading llama_index-0.12.27-py3-none-any.whl.metadata (12 kB)\n",
            "  Downloading llama_index-0.12.26-py3-none-any.whl.metadata (12 kB)\n",
            "  Downloading llama_index-0.12.25-py3-none-any.whl.metadata (12 kB)\n",
            "  Downloading llama_index-0.12.24-py3-none-any.whl.metadata (12 kB)\n",
            "INFO: pip is still looking at multiple versions of llama-index to determine which version is compatible with other requirements. This could take a while.\n",
            "  Downloading llama_index-0.12.23-py3-none-any.whl.metadata (12 kB)\n",
            "  Downloading llama_index-0.12.22-py3-none-any.whl.metadata (12 kB)\n",
            "  Downloading llama_index-0.12.21-py3-none-any.whl.metadata (12 kB)\n",
            "  Downloading llama_index-0.12.20-py3-none-any.whl.metadata (12 kB)\n",
            "  Downloading llama_index-0.12.19-py3-none-any.whl.metadata (12 kB)\n",
            "INFO: This is taking longer than usual. You might need to provide the dependency resolver with stricter constraints to reduce runtime. See https://pip.pypa.io/warnings/backtracking for guidance. If you want to abort this run, press Ctrl + C.\n",
            "  Downloading llama_index-0.12.18-py3-none-any.whl.metadata (12 kB)\n",
            "  Downloading llama_index-0.12.17-py3-none-any.whl.metadata (12 kB)\n",
            "  Downloading llama_index-0.12.16-py3-none-any.whl.metadata (12 kB)\n",
            "  Downloading llama_index-0.12.15-py3-none-any.whl.metadata (12 kB)\n",
            "  Downloading llama_index-0.12.14-py3-none-any.whl.metadata (12 kB)\n",
            "  Downloading llama_index-0.12.13-py3-none-any.whl.metadata (12 kB)\n",
            "  Downloading llama_index-0.12.12-py3-none-any.whl.metadata (12 kB)\n",
            "  Downloading llama_index-0.12.11-py3-none-any.whl.metadata (12 kB)\n",
            "  Downloading llama_index-0.12.10-py3-none-any.whl.metadata (11 kB)\n",
            "  Downloading llama_index-0.12.9-py3-none-any.whl.metadata (11 kB)\n",
            "  Downloading llama_index-0.12.8-py3-none-any.whl.metadata (11 kB)\n",
            "  Downloading llama_index-0.12.7-py3-none-any.whl.metadata (11 kB)\n",
            "  Downloading llama_index-0.12.6-py3-none-any.whl.metadata (11 kB)\n",
            "  Downloading llama_index-0.12.5-py3-none-any.whl.metadata (11 kB)\n",
            "  Downloading llama_index-0.12.4-py3-none-any.whl.metadata (11 kB)\n",
            "  Downloading llama_index-0.12.3-py3-none-any.whl.metadata (11 kB)\n",
            "  Downloading llama_index-0.12.2-py3-none-any.whl.metadata (11 kB)\n",
            "  Downloading llama_index-0.12.1-py3-none-any.whl.metadata (11 kB)\n",
            "  Downloading llama_index-0.12.0-py3-none-any.whl.metadata (11 kB)\n",
            "  Downloading llama_index-0.11.23-py3-none-any.whl.metadata (11 kB)\n",
            "Collecting llama-index-agent-openai<0.4.0,>=0.3.4 (from llama_index->-r requirements.txt (line 2))\n",
            "  Downloading llama_index_agent_openai-0.3.4-py3-none-any.whl.metadata (728 bytes)\n",
            "Collecting llama-index-cli<0.4.0,>=0.3.1 (from llama_index->-r requirements.txt (line 2))\n",
            "  Downloading llama_index_cli-0.3.1-py3-none-any.whl.metadata (1.5 kB)\n",
            "Collecting llama_index (from -r requirements.txt (line 2))\n",
            "  Downloading llama_index-0.11.22-py3-none-any.whl.metadata (11 kB)\n",
            "  Downloading llama_index-0.11.21-py3-none-any.whl.metadata (11 kB)\n",
            "  Downloading llama_index-0.11.20-py3-none-any.whl.metadata (11 kB)\n",
            "  Downloading llama_index-0.11.19-py3-none-any.whl.metadata (11 kB)\n",
            "  Downloading llama_index-0.11.18-py3-none-any.whl.metadata (11 kB)\n",
            "  Downloading llama_index-0.11.17-py3-none-any.whl.metadata (11 kB)\n",
            "  Downloading llama_index-0.11.16-py3-none-any.whl.metadata (11 kB)\n",
            "  Downloading llama_index-0.11.15-py3-none-any.whl.metadata (11 kB)\n",
            "  Downloading llama_index-0.11.14-py3-none-any.whl.metadata (11 kB)\n",
            "  Downloading llama_index-0.11.13-py3-none-any.whl.metadata (11 kB)\n",
            "  Downloading llama_index-0.11.12-py3-none-any.whl.metadata (11 kB)\n",
            "  Downloading llama_index-0.11.11-py3-none-any.whl.metadata (11 kB)\n",
            "  Downloading llama_index-0.11.10-py3-none-any.whl.metadata (11 kB)\n",
            "  Downloading llama_index-0.11.9-py3-none-any.whl.metadata (11 kB)\n",
            "  Downloading llama_index-0.11.8-py3-none-any.whl.metadata (11 kB)\n",
            "  Downloading llama_index-0.11.7-py3-none-any.whl.metadata (11 kB)\n",
            "  Downloading llama_index-0.11.6-py3-none-any.whl.metadata (11 kB)\n",
            "  Downloading llama_index-0.11.5-py3-none-any.whl.metadata (11 kB)\n",
            "  Downloading llama_index-0.11.4-py3-none-any.whl.metadata (11 kB)\n",
            "  Downloading llama_index-0.11.3-py3-none-any.whl.metadata (11 kB)\n",
            "  Downloading llama_index-0.11.2-py3-none-any.whl.metadata (11 kB)\n",
            "  Downloading llama_index-0.11.1-py3-none-any.whl.metadata (11 kB)\n",
            "  Downloading llama_index-0.11.0-py3-none-any.whl.metadata (11 kB)\n",
            "  Downloading llama_index-0.10.68-py3-none-any.whl.metadata (11 kB)\n",
            "Collecting llama-index-agent-openai<0.3.0,>=0.1.4 (from llama_index->-r requirements.txt (line 2))\n",
            "  Downloading llama_index_agent_openai-0.2.9-py3-none-any.whl.metadata (729 bytes)\n",
            "Collecting llama-index-cli<0.2.0,>=0.1.2 (from llama_index->-r requirements.txt (line 2))\n",
            "  Downloading llama_index_cli-0.1.13-py3-none-any.whl.metadata (1.5 kB)\n",
            "Collecting llama-index-embeddings-openai<0.2.0,>=0.1.5 (from llama_index->-r requirements.txt (line 2))\n",
            "  Downloading llama_index_embeddings_openai-0.1.11-py3-none-any.whl.metadata (655 bytes)\n",
            "Collecting llama-index-indices-managed-llama-cloud>=0.2.0 (from llama_index->-r requirements.txt (line 2))\n",
            "  Downloading llama_index_indices_managed_llama_cloud-0.6.11-py3-none-any.whl.metadata (3.6 kB)\n",
            "Collecting llama-index-legacy<0.10.0,>=0.9.48 (from llama_index->-r requirements.txt (line 2))\n",
            "  Downloading llama_index_legacy-0.9.48.post4-py3-none-any.whl.metadata (8.5 kB)\n",
            "Collecting llama-index-llms-openai<0.2.0,>=0.1.27 (from llama_index->-r requirements.txt (line 2))\n",
            "  Downloading llama_index_llms_openai-0.1.31-py3-none-any.whl.metadata (650 bytes)\n",
            "Collecting llama-index-multi-modal-llms-openai<0.2.0,>=0.1.3 (from llama_index->-r requirements.txt (line 2))\n",
            "  Downloading llama_index_multi_modal_llms_openai-0.1.9-py3-none-any.whl.metadata (728 bytes)\n",
            "Collecting llama-index-program-openai<0.2.0,>=0.1.3 (from llama_index->-r requirements.txt (line 2))\n",
            "  Downloading llama_index_program_openai-0.1.7-py3-none-any.whl.metadata (760 bytes)\n",
            "Collecting llama-index-question-gen-openai<0.2.0,>=0.1.2 (from llama_index->-r requirements.txt (line 2))\n",
            "  Downloading llama_index_question_gen_openai-0.1.3-py3-none-any.whl.metadata (785 bytes)\n",
            "Collecting llama-index-readers-file<0.2.0,>=0.1.4 (from llama_index->-r requirements.txt (line 2))\n",
            "  Downloading llama_index_readers_file-0.1.33-py3-none-any.whl.metadata (5.4 kB)\n",
            "Collecting llama-index-readers-llama-parse>=0.1.2 (from llama_index->-r requirements.txt (line 2))\n",
            "  Downloading llama_index_readers_llama_parse-0.4.0-py3-none-any.whl.metadata (3.6 kB)\n",
            "Collecting langchain-text-splitters<0.3.0,>=0.2.0 (from langchain->-r requirements.txt (line 4))\n",
            "  Downloading langchain_text_splitters-0.2.4-py3-none-any.whl.metadata (2.3 kB)\n",
            "Collecting annoy>=1.17.3 (from nemoguardrails->-r requirements.txt (line 15))\n",
            "  Downloading annoy-1.17.3.tar.gz (647 kB)\n",
            "\u001b[2K     \u001b[90m━━━━━━━━━━━━━━━━━━━━━━━━━━━━━━━━━━━━━━\u001b[0m \u001b[32m647.5/647.5 kB\u001b[0m \u001b[31m31.5 MB/s\u001b[0m eta \u001b[36m0:00:00\u001b[0m\n",
            "\u001b[?25h  Preparing metadata (setup.py) ... \u001b[?25l\u001b[?25hdone\n",
            "Collecting fastapi>=0.103.0 (from nemoguardrails->-r requirements.txt (line 15))\n",
            "  Downloading fastapi-0.115.12-py3-none-any.whl.metadata (27 kB)\n",
            "Collecting fastembed<0.4.1,>=0.2.2 (from nemoguardrails->-r requirements.txt (line 15))\n",
            "  Downloading fastembed-0.4.0-py3-none-any.whl.metadata (7.7 kB)\n",
            "Requirement already satisfied: httpx>=0.24.1 in /usr/local/lib/python3.11/dist-packages (from nemoguardrails->-r requirements.txt (line 15)) (0.28.1)\n",
            "Requirement already satisfied: jinja2>=3.1.6 in /usr/local/lib/python3.11/dist-packages (from nemoguardrails->-r requirements.txt (line 15)) (3.1.6)\n",
            "Collecting lark>=1.1.7 (from nemoguardrails->-r requirements.txt (line 15))\n",
            "  Downloading lark-1.2.2-py3-none-any.whl.metadata (1.8 kB)\n",
            "Collecting onnxruntime<2.0.0,>=1.17.0 (from nemoguardrails->-r requirements.txt (line 15))\n",
            "  Downloading onnxruntime-1.21.1-cp311-cp311-manylinux_2_27_x86_64.manylinux_2_28_x86_64.whl.metadata (4.5 kB)\n",
            "  Downloading onnxruntime-1.19.2-cp311-cp311-manylinux_2_27_x86_64.manylinux_2_28_x86_64.whl.metadata (4.5 kB)\n",
            "Requirement already satisfied: pandas<3,>=1.4.0 in /usr/local/lib/python3.11/dist-packages (from nemoguardrails->-r requirements.txt (line 15)) (2.2.2)\n",
            "Requirement already satisfied: rich>=13.5.2 in /usr/local/lib/python3.11/dist-packages (from nemoguardrails->-r requirements.txt (line 15)) (13.9.4)\n",
            "Collecting simpleeval>=0.9.13 (from nemoguardrails->-r requirements.txt (line 15))\n",
            "  Downloading simpleeval-1.0.3-py3-none-any.whl.metadata (17 kB)\n",
            "Collecting starlette>=0.27.0 (from nemoguardrails->-r requirements.txt (line 15))\n",
            "  Downloading starlette-0.46.2-py3-none-any.whl.metadata (6.2 kB)\n",
            "Requirement already satisfied: typer>=0.8 in /usr/local/lib/python3.11/dist-packages (from nemoguardrails->-r requirements.txt (line 15)) (0.15.2)\n",
            "Collecting uvicorn>=0.23 (from nemoguardrails->-r requirements.txt (line 15))\n",
            "  Downloading uvicorn-0.34.2-py3-none-any.whl.metadata (6.5 kB)\n",
            "Collecting watchdog>=3.0.0 (from nemoguardrails->-r requirements.txt (line 15))\n",
            "  Downloading watchdog-6.0.0-py3-none-manylinux2014_x86_64.whl.metadata (44 kB)\n",
            "\u001b[2K     \u001b[90m━━━━━━━━━━━━━━━━━━━━━━━━━━━━━━━━━━━━━━━━\u001b[0m \u001b[32m44.3/44.3 kB\u001b[0m \u001b[31m4.1 MB/s\u001b[0m eta \u001b[36m0:00:00\u001b[0m\n",
            "\u001b[?25hCollecting html2text (from llama-hub->-r requirements.txt (line 17))\n",
            "  Downloading html2text-2025.4.15-py3-none-any.whl.metadata (4.1 kB)\n",
            "Collecting pyaml<24.0.0,>=23.9.7 (from llama-hub->-r requirements.txt (line 17))\n",
            "  Downloading pyaml-23.12.0-py3-none-any.whl.metadata (11 kB)\n",
            "Collecting retrying (from llama-hub->-r requirements.txt (line 17))\n",
            "  Downloading retrying-1.3.4-py3-none-any.whl.metadata (6.9 kB)\n",
            "Collecting bm25s<0.3.0,>=0.2.0 (from llama-index-retrievers-bm25->-r requirements.txt (line 18))\n",
            "  Downloading bm25s-0.2.12-py3-none-any.whl.metadata (21 kB)\n",
            "INFO: pip is looking at multiple versions of llama-index-retrievers-bm25 to determine which version is compatible with other requirements. This could take a while.\n",
            "Collecting llama-index-retrievers-bm25 (from -r requirements.txt (line 18))\n",
            "  Downloading llama_index_retrievers_bm25-0.5.1-py3-none-any.whl.metadata (740 bytes)\n",
            "  Downloading llama_index_retrievers_bm25-0.5.0-py3-none-any.whl.metadata (740 bytes)\n",
            "  Downloading llama_index_retrievers_bm25-0.4.0-py3-none-any.whl.metadata (742 bytes)\n",
            "  Downloading llama_index_retrievers_bm25-0.3.1-py3-none-any.whl.metadata (742 bytes)\n",
            "Collecting bm25s<0.2.0,>=0.1.7 (from llama-index-retrievers-bm25->-r requirements.txt (line 18))\n",
            "  Downloading bm25s-0.1.10-py3-none-any.whl.metadata (15 kB)\n",
            "Collecting llama-index-retrievers-bm25 (from -r requirements.txt (line 18))\n",
            "  Downloading llama_index_retrievers_bm25-0.3.0-py3-none-any.whl.metadata (742 bytes)\n",
            "  Downloading llama_index_retrievers_bm25-0.2.2-py3-none-any.whl.metadata (742 bytes)\n",
            "Collecting pystemmer<3.0.0.0,>=2.2.0.1 (from llama-index-retrievers-bm25->-r requirements.txt (line 18))\n",
            "  Downloading PyStemmer-2.2.0.3-cp311-cp311-manylinux_2_5_x86_64.manylinux1_x86_64.manylinux_2_17_x86_64.manylinux2014_x86_64.whl.metadata (3.2 kB)\n",
            "Requirement already satisfied: networkx in /usr/local/lib/python3.11/dist-packages (from torch>=2.3.1->-r requirements.txt (line 22)) (3.4.2)\n",
            "Collecting nvidia-cuda-nvrtc-cu12==12.4.127 (from torch>=2.3.1->-r requirements.txt (line 22))\n",
            "  Downloading nvidia_cuda_nvrtc_cu12-12.4.127-py3-none-manylinux2014_x86_64.whl.metadata (1.5 kB)\n",
            "Collecting nvidia-cuda-runtime-cu12==12.4.127 (from torch>=2.3.1->-r requirements.txt (line 22))\n",
            "  Downloading nvidia_cuda_runtime_cu12-12.4.127-py3-none-manylinux2014_x86_64.whl.metadata (1.5 kB)\n",
            "Collecting nvidia-cuda-cupti-cu12==12.4.127 (from torch>=2.3.1->-r requirements.txt (line 22))\n",
            "  Downloading nvidia_cuda_cupti_cu12-12.4.127-py3-none-manylinux2014_x86_64.whl.metadata (1.6 kB)\n",
            "Collecting nvidia-cudnn-cu12==9.1.0.70 (from torch>=2.3.1->-r requirements.txt (line 22))\n",
            "  Downloading nvidia_cudnn_cu12-9.1.0.70-py3-none-manylinux2014_x86_64.whl.metadata (1.6 kB)\n",
            "Collecting nvidia-cublas-cu12==12.4.5.8 (from torch>=2.3.1->-r requirements.txt (line 22))\n",
            "  Downloading nvidia_cublas_cu12-12.4.5.8-py3-none-manylinux2014_x86_64.whl.metadata (1.5 kB)\n",
            "Collecting nvidia-cufft-cu12==11.2.1.3 (from torch>=2.3.1->-r requirements.txt (line 22))\n",
            "  Downloading nvidia_cufft_cu12-11.2.1.3-py3-none-manylinux2014_x86_64.whl.metadata (1.5 kB)\n",
            "Collecting nvidia-curand-cu12==10.3.5.147 (from torch>=2.3.1->-r requirements.txt (line 22))\n",
            "  Downloading nvidia_curand_cu12-10.3.5.147-py3-none-manylinux2014_x86_64.whl.metadata (1.5 kB)\n",
            "Collecting nvidia-cusolver-cu12==11.6.1.9 (from torch>=2.3.1->-r requirements.txt (line 22))\n",
            "  Downloading nvidia_cusolver_cu12-11.6.1.9-py3-none-manylinux2014_x86_64.whl.metadata (1.6 kB)\n",
            "Collecting nvidia-cusparse-cu12==12.3.1.170 (from torch>=2.3.1->-r requirements.txt (line 22))\n",
            "  Downloading nvidia_cusparse_cu12-12.3.1.170-py3-none-manylinux2014_x86_64.whl.metadata (1.6 kB)\n",
            "Requirement already satisfied: nvidia-cusparselt-cu12==0.6.2 in /usr/local/lib/python3.11/dist-packages (from torch>=2.3.1->-r requirements.txt (line 22)) (0.6.2)\n",
            "Requirement already satisfied: nvidia-nccl-cu12==2.21.5 in /usr/local/lib/python3.11/dist-packages (from torch>=2.3.1->-r requirements.txt (line 22)) (2.21.5)\n",
            "Requirement already satisfied: nvidia-nvtx-cu12==12.4.127 in /usr/local/lib/python3.11/dist-packages (from torch>=2.3.1->-r requirements.txt (line 22)) (12.4.127)\n",
            "Collecting nvidia-nvjitlink-cu12==12.4.127 (from torch>=2.3.1->-r requirements.txt (line 22))\n",
            "  Downloading nvidia_nvjitlink_cu12-12.4.127-py3-none-manylinux2014_x86_64.whl.metadata (1.5 kB)\n",
            "INFO: pip is looking at multiple versions of torch to determine which version is compatible with other requirements. This could take a while.\n",
            "Collecting torch>=2.3.1 (from -r requirements.txt (line 22))\n",
            "  Downloading torch-2.6.0-cp311-cp311-manylinux1_x86_64.whl.metadata (28 kB)\n",
            "  Downloading torch-2.5.1-cp311-cp311-manylinux1_x86_64.whl.metadata (28 kB)\n",
            "  Downloading torch-2.5.0-cp311-cp311-manylinux1_x86_64.whl.metadata (28 kB)\n",
            "  Downloading torch-2.4.1-cp311-cp311-manylinux1_x86_64.whl.metadata (26 kB)\n",
            "Requirement already satisfied: sympy in /usr/local/lib/python3.11/dist-packages (from torch>=2.3.1->-r requirements.txt (line 22)) (1.13.1)\n",
            "Collecting nvidia-cuda-nvrtc-cu12==12.1.105 (from torch>=2.3.1->-r requirements.txt (line 22))\n",
            "  Downloading nvidia_cuda_nvrtc_cu12-12.1.105-py3-none-manylinux1_x86_64.whl.metadata (1.5 kB)\n",
            "Collecting nvidia-cuda-runtime-cu12==12.1.105 (from torch>=2.3.1->-r requirements.txt (line 22))\n",
            "  Downloading nvidia_cuda_runtime_cu12-12.1.105-py3-none-manylinux1_x86_64.whl.metadata (1.5 kB)\n",
            "Collecting nvidia-cuda-cupti-cu12==12.1.105 (from torch>=2.3.1->-r requirements.txt (line 22))\n",
            "  Downloading nvidia_cuda_cupti_cu12-12.1.105-py3-none-manylinux1_x86_64.whl.metadata (1.6 kB)\n",
            "Collecting nvidia-cublas-cu12==12.1.3.1 (from torch>=2.3.1->-r requirements.txt (line 22))\n",
            "  Downloading nvidia_cublas_cu12-12.1.3.1-py3-none-manylinux1_x86_64.whl.metadata (1.5 kB)\n",
            "Collecting nvidia-cufft-cu12==11.0.2.54 (from torch>=2.3.1->-r requirements.txt (line 22))\n",
            "  Downloading nvidia_cufft_cu12-11.0.2.54-py3-none-manylinux1_x86_64.whl.metadata (1.5 kB)\n",
            "Collecting nvidia-curand-cu12==10.3.2.106 (from torch>=2.3.1->-r requirements.txt (line 22))\n",
            "  Downloading nvidia_curand_cu12-10.3.2.106-py3-none-manylinux1_x86_64.whl.metadata (1.5 kB)\n",
            "Collecting nvidia-cusolver-cu12==11.4.5.107 (from torch>=2.3.1->-r requirements.txt (line 22))\n",
            "  Downloading nvidia_cusolver_cu12-11.4.5.107-py3-none-manylinux1_x86_64.whl.metadata (1.6 kB)\n",
            "Collecting nvidia-cusparse-cu12==12.1.0.106 (from torch>=2.3.1->-r requirements.txt (line 22))\n",
            "  Downloading nvidia_cusparse_cu12-12.1.0.106-py3-none-manylinux1_x86_64.whl.metadata (1.6 kB)\n",
            "Collecting nvidia-nccl-cu12==2.20.5 (from torch>=2.3.1->-r requirements.txt (line 22))\n",
            "  Downloading nvidia_nccl_cu12-2.20.5-py3-none-manylinux2014_x86_64.whl.metadata (1.8 kB)\n",
            "Collecting nvidia-nvtx-cu12==12.1.105 (from torch>=2.3.1->-r requirements.txt (line 22))\n",
            "  Downloading nvidia_nvtx_cu12-12.1.105-py3-none-manylinux1_x86_64.whl.metadata (1.7 kB)\n",
            "Collecting torch>=2.3.1 (from -r requirements.txt (line 22))\n",
            "  Downloading torch-2.4.0-cp311-cp311-manylinux1_x86_64.whl.metadata (26 kB)\n",
            "  Downloading torch-2.3.1-cp311-cp311-manylinux1_x86_64.whl.metadata (26 kB)\n",
            "Collecting nvidia-cudnn-cu12==8.9.2.26 (from torch>=2.3.1->-r requirements.txt (line 22))\n",
            "  Downloading nvidia_cudnn_cu12-8.9.2.26-py3-none-manylinux1_x86_64.whl.metadata (1.6 kB)\n",
            "Requirement already satisfied: nvidia-nvjitlink-cu12 in /usr/local/lib/python3.11/dist-packages (from nvidia-cusolver-cu12==11.4.5.107->torch>=2.3.1->-r requirements.txt (line 22)) (12.5.82)\n",
            "Requirement already satisfied: aiohappyeyeballs>=2.3.0 in /usr/local/lib/python3.11/dist-packages (from aiohttp<4.0.0,>=3.8.3->langchain_community==0.2.5->-r requirements.txt (line 6)) (2.6.1)\n",
            "Requirement already satisfied: aiosignal>=1.1.2 in /usr/local/lib/python3.11/dist-packages (from aiohttp<4.0.0,>=3.8.3->langchain_community==0.2.5->-r requirements.txt (line 6)) (1.3.2)\n",
            "Requirement already satisfied: attrs>=17.3.0 in /usr/local/lib/python3.11/dist-packages (from aiohttp<4.0.0,>=3.8.3->langchain_community==0.2.5->-r requirements.txt (line 6)) (25.3.0)\n",
            "Requirement already satisfied: frozenlist>=1.1.1 in /usr/local/lib/python3.11/dist-packages (from aiohttp<4.0.0,>=3.8.3->langchain_community==0.2.5->-r requirements.txt (line 6)) (1.5.0)\n",
            "Requirement already satisfied: multidict<7.0,>=4.5 in /usr/local/lib/python3.11/dist-packages (from aiohttp<4.0.0,>=3.8.3->langchain_community==0.2.5->-r requirements.txt (line 6)) (6.4.3)\n",
            "Requirement already satisfied: propcache>=0.2.0 in /usr/local/lib/python3.11/dist-packages (from aiohttp<4.0.0,>=3.8.3->langchain_community==0.2.5->-r requirements.txt (line 6)) (0.3.1)\n",
            "Requirement already satisfied: yarl<2.0,>=1.17.0 in /usr/local/lib/python3.11/dist-packages (from aiohttp<4.0.0,>=3.8.3->langchain_community==0.2.5->-r requirements.txt (line 6)) (1.19.0)\n",
            "Requirement already satisfied: scipy in /usr/local/lib/python3.11/dist-packages (from bm25s<0.2.0,>=0.1.7->llama-index-retrievers-bm25->-r requirements.txt (line 18)) (1.14.1)\n",
            "Collecting marshmallow<4.0.0,>=3.18.0 (from dataclasses-json<0.7,>=0.5.7->langchain_community==0.2.5->-r requirements.txt (line 6))\n",
            "  Downloading marshmallow-3.26.1-py3-none-any.whl.metadata (7.3 kB)\n",
            "Collecting typing-inspect<1,>=0.4.0 (from dataclasses-json<0.7,>=0.5.7->langchain_community==0.2.5->-r requirements.txt (line 6))\n",
            "  Downloading typing_inspect-0.9.0-py3-none-any.whl.metadata (1.5 kB)\n",
            "Collecting loguru<0.8.0,>=0.7.2 (from fastembed<0.4.1,>=0.2.2->nemoguardrails->-r requirements.txt (line 15))\n",
            "  Downloading loguru-0.7.3-py3-none-any.whl.metadata (22 kB)\n",
            "Collecting mmh3<5.0.0,>=4.1.0 (from fastembed<0.4.1,>=0.2.2->nemoguardrails->-r requirements.txt (line 15))\n",
            "  Downloading mmh3-4.1.0-cp311-cp311-manylinux_2_5_x86_64.manylinux1_x86_64.manylinux_2_17_x86_64.manylinux2014_x86_64.whl.metadata (13 kB)\n",
            "Collecting onnx<2.0.0,>=1.15.0 (from fastembed<0.4.1,>=0.2.2->nemoguardrails->-r requirements.txt (line 15))\n",
            "  Downloading onnx-1.17.0-cp311-cp311-manylinux_2_17_x86_64.manylinux2014_x86_64.whl.metadata (16 kB)\n",
            "Collecting pillow<11.0.0,>=10.3.0 (from fastembed<0.4.1,>=0.2.2->nemoguardrails->-r requirements.txt (line 15))\n",
            "  Downloading pillow-10.4.0-cp311-cp311-manylinux_2_28_x86_64.whl.metadata (9.2 kB)\n",
            "Requirement already satisfied: snowballstemmer<3.0.0,>=2.2.0 in /usr/local/lib/python3.11/dist-packages (from fastembed<0.4.1,>=0.2.2->nemoguardrails->-r requirements.txt (line 15)) (2.2.0)\n",
            "Requirement already satisfied: anyio in /usr/local/lib/python3.11/dist-packages (from httpx>=0.24.1->nemoguardrails->-r requirements.txt (line 15)) (4.9.0)\n",
            "Requirement already satisfied: httpcore==1.* in /usr/local/lib/python3.11/dist-packages (from httpx>=0.24.1->nemoguardrails->-r requirements.txt (line 15)) (1.0.8)\n",
            "Requirement already satisfied: h11<0.15,>=0.13 in /usr/local/lib/python3.11/dist-packages (from httpcore==1.*->httpx>=0.24.1->nemoguardrails->-r requirements.txt (line 15)) (0.14.0)\n",
            "Collecting minijinja>=1.0 (from huggingface-hub[inference]>=0.19.0->llama-index-embeddings-huggingface==0.2.2->-r requirements.txt (line 8))\n",
            "  Downloading minijinja-2.9.0-cp38-abi3-manylinux_2_17_x86_64.manylinux2014_x86_64.whl.metadata (9.4 kB)\n",
            "Requirement already satisfied: parso<0.9.0,>=0.8.4 in /usr/local/lib/python3.11/dist-packages (from jedi>=0.16->Ipython==7.34.0->-r requirements.txt (line 3)) (0.8.4)\n",
            "Requirement already satisfied: MarkupSafe>=2.0 in /usr/local/lib/python3.11/dist-packages (from jinja2>=3.1.6->nemoguardrails->-r requirements.txt (line 15)) (3.0.2)\n",
            "Requirement already satisfied: jsonpatch<2.0,>=1.33 in /usr/local/lib/python3.11/dist-packages (from langchain-core<0.3.0,>=0.2.7->langchain_community==0.2.5->-r requirements.txt (line 6)) (1.33)\n",
            "Requirement already satisfied: orjson<4.0.0,>=3.9.14 in /usr/local/lib/python3.11/dist-packages (from langsmith<0.2.0,>=0.1.0->langchain_community==0.2.5->-r requirements.txt (line 6)) (3.10.16)\n",
            "Requirement already satisfied: requests-toolbelt<2.0.0,>=1.0.0 in /usr/local/lib/python3.11/dist-packages (from langsmith<0.2.0,>=0.1.0->langchain_community==0.2.5->-r requirements.txt (line 6)) (1.0.0)\n",
            "Requirement already satisfied: openai>=1.14.0 in /usr/local/lib/python3.11/dist-packages (from llama-index-agent-openai<0.3.0,>=0.1.4->llama_index->-r requirements.txt (line 2)) (1.75.0)\n",
            "Requirement already satisfied: deprecated>=1.2.9.3 in /usr/local/lib/python3.11/dist-packages (from llama-index-core<0.11.0,>=0.10.41->llama-index-llms-huggingface==0.2.3->-r requirements.txt (line 7)) (1.2.18)\n",
            "Collecting dirtyjson<2.0.0,>=1.0.8 (from llama-index-core<0.11.0,>=0.10.41->llama-index-llms-huggingface==0.2.3->-r requirements.txt (line 7))\n",
            "  Downloading dirtyjson-1.0.8-py3-none-any.whl.metadata (11 kB)\n",
            "Requirement already satisfied: nltk!=3.9,>=3.8.1 in /usr/local/lib/python3.11/dist-packages (from llama-index-core<0.11.0,>=0.10.41->llama-index-llms-huggingface==0.2.3->-r requirements.txt (line 7)) (3.9.1)\n",
            "Collecting tiktoken>=0.3.3 (from llama-index-core<0.11.0,>=0.10.41->llama-index-llms-huggingface==0.2.3->-r requirements.txt (line 7))\n",
            "  Downloading tiktoken-0.9.0-cp311-cp311-manylinux_2_17_x86_64.manylinux2014_x86_64.whl.metadata (6.7 kB)\n",
            "Requirement already satisfied: wrapt in /usr/local/lib/python3.11/dist-packages (from llama-index-core<0.11.0,>=0.10.41->llama-index-llms-huggingface==0.2.3->-r requirements.txt (line 7)) (1.17.2)\n",
            "Collecting llama-cloud<0.2.0,>=0.1.13 (from llama-index-indices-managed-llama-cloud>=0.2.0->llama_index->-r requirements.txt (line 2))\n",
            "  Downloading llama_cloud-0.1.18-py3-none-any.whl.metadata (902 bytes)\n",
            "INFO: pip is looking at multiple versions of llama-index-indices-managed-llama-cloud to determine which version is compatible with other requirements. This could take a while.\n",
            "Collecting llama-index-indices-managed-llama-cloud>=0.2.0 (from llama_index->-r requirements.txt (line 2))\n",
            "  Downloading llama_index_indices_managed_llama_cloud-0.6.10-py3-none-any.whl.metadata (3.6 kB)\n",
            "  Downloading llama_index_indices_managed_llama_cloud-0.6.9-py3-none-any.whl.metadata (3.6 kB)\n",
            "  Downloading llama_index_indices_managed_llama_cloud-0.6.8-py3-none-any.whl.metadata (3.6 kB)\n",
            "  Downloading llama_index_indices_managed_llama_cloud-0.6.7-py3-none-any.whl.metadata (3.6 kB)\n",
            "  Downloading llama_index_indices_managed_llama_cloud-0.6.6-py3-none-any.whl.metadata (3.6 kB)\n",
            "  Downloading llama_index_indices_managed_llama_cloud-0.6.5-py3-none-any.whl.metadata (3.6 kB)\n",
            "  Downloading llama_index_indices_managed_llama_cloud-0.6.4-py3-none-any.whl.metadata (3.6 kB)\n",
            "INFO: pip is still looking at multiple versions of llama-index-indices-managed-llama-cloud to determine which version is compatible with other requirements. This could take a while.\n",
            "  Downloading llama_index_indices_managed_llama_cloud-0.6.3-py3-none-any.whl.metadata (3.8 kB)\n",
            "  Downloading llama_index_indices_managed_llama_cloud-0.6.2-py3-none-any.whl.metadata (3.8 kB)\n",
            "  Downloading llama_index_indices_managed_llama_cloud-0.6.1-py3-none-any.whl.metadata (3.8 kB)\n",
            "  Downloading llama_index_indices_managed_llama_cloud-0.6.0-py3-none-any.whl.metadata (3.8 kB)\n",
            "  Downloading llama_index_indices_managed_llama_cloud-0.5.0-py3-none-any.whl.metadata (3.8 kB)\n",
            "INFO: This is taking longer than usual. You might need to provide the dependency resolver with stricter constraints to reduce runtime. See https://pip.pypa.io/warnings/backtracking for guidance. If you want to abort this run, press Ctrl + C.\n",
            "  Downloading llama_index_indices_managed_llama_cloud-0.4.2-py3-none-any.whl.metadata (3.8 kB)\n",
            "  Downloading llama_index_indices_managed_llama_cloud-0.4.1-py3-none-any.whl.metadata (3.8 kB)\n",
            "  Downloading llama_index_indices_managed_llama_cloud-0.4.0-py3-none-any.whl.metadata (3.8 kB)\n",
            "  Downloading llama_index_indices_managed_llama_cloud-0.3.1-py3-none-any.whl.metadata (3.8 kB)\n",
            "  Downloading llama_index_indices_managed_llama_cloud-0.3.0-py3-none-any.whl.metadata (3.8 kB)\n",
            "  Downloading llama_index_indices_managed_llama_cloud-0.2.7-py3-none-any.whl.metadata (3.8 kB)\n",
            "Requirement already satisfied: beautifulsoup4<5.0.0,>=4.12.3 in /usr/local/lib/python3.11/dist-packages (from llama-index-readers-file<0.2.0,>=0.1.4->llama_index->-r requirements.txt (line 2)) (4.13.4)\n",
            "Collecting striprtf<0.0.27,>=0.0.26 (from llama-index-readers-file<0.2.0,>=0.1.4->llama_index->-r requirements.txt (line 2))\n",
            "  Downloading striprtf-0.0.26-py3-none-any.whl.metadata (2.1 kB)\n",
            "INFO: pip is looking at multiple versions of llama-index-readers-llama-parse to determine which version is compatible with other requirements. This could take a while.\n",
            "Collecting llama-index-readers-llama-parse>=0.1.2 (from llama_index->-r requirements.txt (line 2))\n",
            "  Downloading llama_index_readers_llama_parse-0.3.0-py3-none-any.whl.metadata (3.5 kB)\n",
            "  Downloading llama_index_readers_llama_parse-0.2.0-py3-none-any.whl.metadata (3.6 kB)\n",
            "  Downloading llama_index_readers_llama_parse-0.1.6-py3-none-any.whl.metadata (3.6 kB)\n",
            "Collecting llama-parse>=0.4.0 (from llama-index-readers-llama-parse>=0.1.2->llama_index->-r requirements.txt (line 2))\n",
            "  Downloading llama_parse-0.6.12-py3-none-any.whl.metadata (6.9 kB)\n",
            "Collecting coloredlogs (from onnxruntime<2.0.0,>=1.17.0->nemoguardrails->-r requirements.txt (line 15))\n",
            "  Downloading coloredlogs-15.0.1-py2.py3-none-any.whl.metadata (12 kB)\n",
            "Requirement already satisfied: flatbuffers in /usr/local/lib/python3.11/dist-packages (from onnxruntime<2.0.0,>=1.17.0->nemoguardrails->-r requirements.txt (line 15)) (25.2.10)\n",
            "Requirement already satisfied: protobuf in /usr/local/lib/python3.11/dist-packages (from onnxruntime<2.0.0,>=1.17.0->nemoguardrails->-r requirements.txt (line 15)) (5.29.4)\n",
            "Requirement already satisfied: python-dateutil>=2.8.2 in /usr/local/lib/python3.11/dist-packages (from pandas<3,>=1.4.0->nemoguardrails->-r requirements.txt (line 15)) (2.8.2)\n",
            "Requirement already satisfied: pytz>=2020.1 in /usr/local/lib/python3.11/dist-packages (from pandas<3,>=1.4.0->nemoguardrails->-r requirements.txt (line 15)) (2025.2)\n",
            "Requirement already satisfied: tzdata>=2022.7 in /usr/local/lib/python3.11/dist-packages (from pandas<3,>=1.4.0->nemoguardrails->-r requirements.txt (line 15)) (2025.2)\n",
            "Requirement already satisfied: ptyprocess>=0.5 in /usr/local/lib/python3.11/dist-packages (from pexpect>4.3->Ipython==7.34.0->-r requirements.txt (line 3)) (0.7.0)\n",
            "Requirement already satisfied: wcwidth in /usr/local/lib/python3.11/dist-packages (from prompt-toolkit!=3.0.0,!=3.0.1,<3.1.0,>=2.0.0->Ipython==7.34.0->-r requirements.txt (line 3)) (0.2.13)\n",
            "Requirement already satisfied: markdown-it-py>=2.2.0 in /usr/local/lib/python3.11/dist-packages (from rich>=13.5.2->nemoguardrails->-r requirements.txt (line 15)) (3.0.0)\n",
            "Requirement already satisfied: scikit-learn in /usr/local/lib/python3.11/dist-packages (from sentence-transformers>=2.6.1->llama-index-embeddings-huggingface==0.2.2->-r requirements.txt (line 8)) (1.6.1)\n",
            "Requirement already satisfied: greenlet>=1 in /usr/local/lib/python3.11/dist-packages (from SQLAlchemy<3,>=1.4->langchain_community==0.2.5->-r requirements.txt (line 6)) (3.2.0)\n",
            "INFO: pip is looking at multiple versions of transformers[torch] to determine which version is compatible with other requirements. This could take a while.\n",
            "INFO: pip is still looking at multiple versions of transformers[torch] to determine which version is compatible with other requirements. This could take a while.\n",
            "INFO: This is taking longer than usual. You might need to provide the dependency resolver with stricter constraints to reduce runtime. See https://pip.pypa.io/warnings/backtracking for guidance. If you want to abort this run, press Ctrl + C.\n",
            "Requirement already satisfied: click>=8.0.0 in /usr/local/lib/python3.11/dist-packages (from typer>=0.8->nemoguardrails->-r requirements.txt (line 15)) (8.1.8)\n",
            "Requirement already satisfied: shellingham>=1.3.0 in /usr/local/lib/python3.11/dist-packages (from typer>=0.8->nemoguardrails->-r requirements.txt (line 15)) (1.5.4)\n",
            "Requirement already satisfied: six>=1.7.0 in /usr/local/lib/python3.11/dist-packages (from retrying->llama-hub->-r requirements.txt (line 17)) (1.17.0)\n",
            "Requirement already satisfied: mpmath<1.4,>=1.1.0 in /usr/local/lib/python3.11/dist-packages (from sympy->torch>=2.3.1->-r requirements.txt (line 22)) (1.3.0)\n",
            "Requirement already satisfied: sniffio>=1.1 in /usr/local/lib/python3.11/dist-packages (from anyio->httpx>=0.24.1->nemoguardrails->-r requirements.txt (line 15)) (1.3.1)\n",
            "Requirement already satisfied: soupsieve>1.2 in /usr/local/lib/python3.11/dist-packages (from beautifulsoup4<5.0.0,>=4.12.3->llama-index-readers-file<0.2.0,>=0.1.4->llama_index->-r requirements.txt (line 2)) (2.6)\n",
            "Requirement already satisfied: jsonpointer>=1.9 in /usr/local/lib/python3.11/dist-packages (from jsonpatch<2.0,>=1.33->langchain-core<0.3.0,>=0.2.7->langchain_community==0.2.5->-r requirements.txt (line 6)) (3.0.0)\n",
            "Collecting llama-cloud-services>=0.6.12 (from llama-parse>=0.4.0->llama-index-readers-llama-parse>=0.1.2->llama_index->-r requirements.txt (line 2))\n",
            "  Downloading llama_cloud_services-0.6.12-py3-none-any.whl.metadata (3.4 kB)\n",
            "Requirement already satisfied: mdurl~=0.1 in /usr/local/lib/python3.11/dist-packages (from markdown-it-py>=2.2.0->rich>=13.5.2->nemoguardrails->-r requirements.txt (line 15)) (0.1.2)\n",
            "Requirement already satisfied: joblib in /usr/local/lib/python3.11/dist-packages (from nltk!=3.9,>=3.8.1->llama-index-core<0.11.0,>=0.10.41->llama-index-llms-huggingface==0.2.3->-r requirements.txt (line 7)) (1.4.2)\n",
            "Requirement already satisfied: distro<2,>=1.7.0 in /usr/local/lib/python3.11/dist-packages (from openai>=1.14.0->llama-index-agent-openai<0.3.0,>=0.1.4->llama_index->-r requirements.txt (line 2)) (1.9.0)\n",
            "Requirement already satisfied: jiter<1,>=0.4.0 in /usr/local/lib/python3.11/dist-packages (from openai>=1.14.0->llama-index-agent-openai<0.3.0,>=0.1.4->llama_index->-r requirements.txt (line 2)) (0.9.0)\n",
            "Collecting mypy-extensions>=0.3.0 (from typing-inspect<1,>=0.4.0->dataclasses-json<0.7,>=0.5.7->langchain_community==0.2.5->-r requirements.txt (line 6))\n",
            "  Downloading mypy_extensions-1.0.0-py3-none-any.whl.metadata (1.1 kB)\n",
            "Collecting humanfriendly>=9.1 (from coloredlogs->onnxruntime<2.0.0,>=1.17.0->nemoguardrails->-r requirements.txt (line 15))\n",
            "  Downloading humanfriendly-10.0-py2.py3-none-any.whl.metadata (9.2 kB)\n",
            "Requirement already satisfied: threadpoolctl>=3.1.0 in /usr/local/lib/python3.11/dist-packages (from scikit-learn->sentence-transformers>=2.6.1->llama-index-embeddings-huggingface==0.2.2->-r requirements.txt (line 8)) (3.6.0)\n",
            "INFO: pip is looking at multiple versions of llama-cloud-services to determine which version is compatible with other requirements. This could take a while.\n",
            "Collecting llama-parse>=0.4.0 (from llama-index-readers-llama-parse>=0.1.2->llama_index->-r requirements.txt (line 2))\n",
            "  Downloading llama_parse-0.6.9-py3-none-any.whl.metadata (6.9 kB)\n",
            "Collecting llama-cloud-services>=0.6.9 (from llama-parse>=0.4.0->llama-index-readers-llama-parse>=0.1.2->llama_index->-r requirements.txt (line 2))\n",
            "  Downloading llama_cloud_services-0.6.11-py3-none-any.whl.metadata (3.5 kB)\n",
            "  Downloading llama_cloud_services-0.6.10-py3-none-any.whl.metadata (3.5 kB)\n",
            "  Downloading llama_cloud_services-0.6.9-py3-none-any.whl.metadata (2.9 kB)\n",
            "Collecting llama-parse>=0.4.0 (from llama-index-readers-llama-parse>=0.1.2->llama_index->-r requirements.txt (line 2))\n",
            "  Downloading llama_parse-0.6.4.post1-py3-none-any.whl.metadata (6.9 kB)\n",
            "INFO: pip is still looking at multiple versions of llama-cloud-services to determine which version is compatible with other requirements. This could take a while.\n",
            "Collecting llama-cloud-services>=0.6.4 (from llama-parse>=0.4.0->llama-index-readers-llama-parse>=0.1.2->llama_index->-r requirements.txt (line 2))\n",
            "  Downloading llama_cloud_services-0.6.8-py3-none-any.whl.metadata (2.9 kB)\n",
            "  Downloading llama_cloud_services-0.6.7-py3-none-any.whl.metadata (2.9 kB)\n",
            "  Downloading llama_cloud_services-0.6.6-py3-none-any.whl.metadata (2.9 kB)\n",
            "  Downloading llama_cloud_services-0.6.5-py3-none-any.whl.metadata (2.9 kB)\n",
            "INFO: This is taking longer than usual. You might need to provide the dependency resolver with stricter constraints to reduce runtime. See https://pip.pypa.io/warnings/backtracking for guidance. If you want to abort this run, press Ctrl + C.\n",
            "  Downloading llama_cloud_services-0.6.4-py3-none-any.whl.metadata (2.9 kB)\n",
            "Collecting llama-parse>=0.4.0 (from llama-index-readers-llama-parse>=0.1.2->llama_index->-r requirements.txt (line 2))\n",
            "  Downloading llama_parse-0.6.4-py3-none-any.whl.metadata (6.9 kB)\n",
            "Collecting llama-cloud-services>=0.6.3 (from llama-parse>=0.4.0->llama-index-readers-llama-parse>=0.1.2->llama_index->-r requirements.txt (line 2))\n",
            "  Downloading llama_cloud_services-0.6.3-py3-none-any.whl.metadata (2.9 kB)\n",
            "Collecting llama-parse>=0.4.0 (from llama-index-readers-llama-parse>=0.1.2->llama_index->-r requirements.txt (line 2))\n",
            "  Downloading llama_parse-0.6.2-py3-none-any.whl.metadata (6.9 kB)\n",
            "Collecting llama-cloud-services>=0.6.2 (from llama-parse>=0.4.0->llama-index-readers-llama-parse>=0.1.2->llama_index->-r requirements.txt (line 2))\n",
            "  Downloading llama_cloud_services-0.6.2-py3-none-any.whl.metadata (2.8 kB)\n",
            "Collecting llama-parse>=0.4.0 (from llama-index-readers-llama-parse>=0.1.2->llama_index->-r requirements.txt (line 2))\n",
            "  Downloading llama_parse-0.6.1-py3-none-any.whl.metadata (6.9 kB)\n",
            "Collecting llama-cloud-services>=0.6.1 (from llama-parse>=0.4.0->llama-index-readers-llama-parse>=0.1.2->llama_index->-r requirements.txt (line 2))\n",
            "  Downloading llama_cloud_services-0.6.1-py3-none-any.whl.metadata (2.7 kB)\n",
            "Collecting llama-parse>=0.4.0 (from llama-index-readers-llama-parse>=0.1.2->llama_index->-r requirements.txt (line 2))\n",
            "  Downloading llama_parse-0.6.0-py3-none-any.whl.metadata (6.8 kB)\n",
            "Collecting llama-cloud-services (from llama-parse>=0.4.0->llama-index-readers-llama-parse>=0.1.2->llama_index->-r requirements.txt (line 2))\n",
            "  Downloading llama_cloud_services-0.6.0-py3-none-any.whl.metadata (2.7 kB)\n",
            "Collecting llama-parse>=0.4.0 (from llama-index-readers-llama-parse>=0.1.2->llama_index->-r requirements.txt (line 2))\n",
            "  Downloading llama_parse-0.5.20-py3-none-any.whl.metadata (6.9 kB)\n",
            "INFO: pip is looking at multiple versions of llama-parse to determine which version is compatible with other requirements. This could take a while.\n",
            "  Downloading llama_parse-0.5.19-py3-none-any.whl.metadata (7.0 kB)\n",
            "  Downloading llama_parse-0.5.18-py3-none-any.whl.metadata (7.0 kB)\n",
            "  Downloading llama_parse-0.5.17-py3-none-any.whl.metadata (7.0 kB)\n",
            "  Downloading llama_parse-0.5.16-py3-none-any.whl.metadata (7.0 kB)\n",
            "  Downloading llama_parse-0.5.15-py3-none-any.whl.metadata (7.0 kB)\n",
            "  Downloading llama_parse-0.5.14-py3-none-any.whl.metadata (6.9 kB)\n",
            "  Downloading llama_parse-0.5.13-py3-none-any.whl.metadata (6.9 kB)\n",
            "INFO: pip is still looking at multiple versions of llama-parse to determine which version is compatible with other requirements. This could take a while.\n",
            "  Downloading llama_parse-0.5.12-py3-none-any.whl.metadata (6.9 kB)\n",
            "  Downloading llama_parse-0.5.11-py3-none-any.whl.metadata (6.9 kB)\n",
            "  Downloading llama_parse-0.5.10-py3-none-any.whl.metadata (6.9 kB)\n",
            "  Downloading llama_parse-0.5.9-py3-none-any.whl.metadata (6.9 kB)\n",
            "  Downloading llama_parse-0.5.8-py3-none-any.whl.metadata (6.4 kB)\n",
            "INFO: This is taking longer than usual. You might need to provide the dependency resolver with stricter constraints to reduce runtime. See https://pip.pypa.io/warnings/backtracking for guidance. If you want to abort this run, press Ctrl + C.\n",
            "  Downloading llama_parse-0.5.7-py3-none-any.whl.metadata (6.4 kB)\n",
            "  Downloading llama_parse-0.5.6-py3-none-any.whl.metadata (6.1 kB)\n",
            "  Downloading llama_parse-0.5.5-py3-none-any.whl.metadata (6.1 kB)\n",
            "  Downloading llama_parse-0.5.4-py3-none-any.whl.metadata (6.1 kB)\n",
            "  Downloading llama_parse-0.5.3-py3-none-any.whl.metadata (4.5 kB)\n",
            "  Downloading llama_parse-0.5.2-py3-none-any.whl.metadata (4.5 kB)\n",
            "  Downloading llama_parse-0.5.1-py3-none-any.whl.metadata (4.5 kB)\n",
            "  Downloading llama_parse-0.5.0-py3-none-any.whl.metadata (4.4 kB)\n",
            "  Downloading llama_parse-0.4.9-py3-none-any.whl.metadata (4.4 kB)\n",
            "Downloading pypdf-4.2.0-py3-none-any.whl (290 kB)\n",
            "\u001b[2K   \u001b[90m━━━━━━━━━━━━━━━━━━━━━━━━━━━━━━━━━━━━━━━━\u001b[0m \u001b[32m290.4/290.4 kB\u001b[0m \u001b[31m26.7 MB/s\u001b[0m eta \u001b[36m0:00:00\u001b[0m\n",
            "\u001b[?25hDownloading langchain_community-0.2.5-py3-none-any.whl (2.2 MB)\n",
            "\u001b[2K   \u001b[90m━━━━━━━━━━━━━━━━━━━━━━━━━━━━━━━━━━━━━━━━\u001b[0m \u001b[32m2.2/2.2 MB\u001b[0m \u001b[31m83.3 MB/s\u001b[0m eta \u001b[36m0:00:00\u001b[0m\n",
            "\u001b[?25hDownloading llama_index_llms_huggingface-0.2.3-py3-none-any.whl (10 kB)\n",
            "Downloading llama_index_embeddings_huggingface-0.2.2-py3-none-any.whl (7.2 kB)\n",
            "Downloading llama_index_embeddings_langchain-0.1.2-py3-none-any.whl (2.5 kB)\n",
            "Downloading langchain_huggingface-0.0.3-py3-none-any.whl (17 kB)\n",
            "Downloading sentencepiece-0.1.99-cp311-cp311-manylinux_2_17_x86_64.manylinux2014_x86_64.whl (1.3 MB)\n",
            "\u001b[2K   \u001b[90m━━━━━━━━━━━━━━━━━━━━━━━━━━━━━━━━━━━━━━━━\u001b[0m \u001b[32m1.3/1.3 MB\u001b[0m \u001b[31m75.5 MB/s\u001b[0m eta \u001b[36m0:00:00\u001b[0m\n",
            "\u001b[?25hDownloading accelerate-0.31.0-py3-none-any.whl (309 kB)\n",
            "\u001b[2K   \u001b[90m━━━━━━━━━━━━━━━━━━━━━━━━━━━━━━━━━━━━━━━━\u001b[0m \u001b[32m309.4/309.4 kB\u001b[0m \u001b[31m28.2 MB/s\u001b[0m eta \u001b[36m0:00:00\u001b[0m\n",
            "\u001b[?25hDownloading bitsandbytes-0.43.1-py3-none-manylinux_2_24_x86_64.whl (119.8 MB)\n",
            "\u001b[2K   \u001b[90m━━━━━━━━━━━━━━━━━━━━━━━━━━━━━━━━━━━━━━━━\u001b[0m \u001b[32m119.8/119.8 MB\u001b[0m \u001b[31m8.0 MB/s\u001b[0m eta \u001b[36m0:00:00\u001b[0m\n",
            "\u001b[?25hDownloading peft-0.11.1-py3-none-any.whl (251 kB)\n",
            "\u001b[2K   \u001b[90m━━━━━━━━━━━━━━━━━━━━━━━━━━━━━━━━━━━━━━━━\u001b[0m \u001b[32m251.6/251.6 kB\u001b[0m \u001b[31m22.8 MB/s\u001b[0m eta \u001b[36m0:00:00\u001b[0m\n",
            "\u001b[?25hDownloading huggingface_hub-0.23.3-py3-none-any.whl (401 kB)\n",
            "\u001b[2K   \u001b[90m━━━━━━━━━━━━━━━━━━━━━━━━━━━━━━━━━━━━━━━━\u001b[0m \u001b[32m401.7/401.7 kB\u001b[0m \u001b[31m37.5 MB/s\u001b[0m eta \u001b[36m0:00:00\u001b[0m\n",
            "\u001b[?25hDownloading numpy-1.25.2-cp311-cp311-manylinux_2_17_x86_64.manylinux2014_x86_64.whl (18.2 MB)\n",
            "\u001b[2K   \u001b[90m━━━━━━━━━━━━━━━━━━━━━━━━━━━━━━━━━━━━━━━━\u001b[0m \u001b[32m18.2/18.2 MB\u001b[0m \u001b[31m104.5 MB/s\u001b[0m eta \u001b[36m0:00:00\u001b[0m\n",
            "\u001b[?25hDownloading packaging-24.1-py3-none-any.whl (53 kB)\n",
            "\u001b[2K   \u001b[90m━━━━━━━━━━━━━━━━━━━━━━━━━━━━━━━━━━━━━━━━\u001b[0m \u001b[32m54.0/54.0 kB\u001b[0m \u001b[31m5.0 MB/s\u001b[0m eta \u001b[36m0:00:00\u001b[0m\n",
            "\u001b[?25hDownloading PyYAML-6.0.1-cp311-cp311-manylinux_2_17_x86_64.manylinux2014_x86_64.whl (757 kB)\n",
            "\u001b[2K   \u001b[90m━━━━━━━━━━━━━━━━━━━━━━━━━━━━━━━━━━━━━━━━\u001b[0m \u001b[32m757.7/757.7 kB\u001b[0m \u001b[31m52.8 MB/s\u001b[0m eta \u001b[36m0:00:00\u001b[0m\n",
            "\u001b[?25hDownloading requests-2.31.0-py3-none-any.whl (62 kB)\n",
            "\u001b[2K   \u001b[90m━━━━━━━━━━━━━━━━━━━━━━━━━━━━━━━━━━━━━━━━\u001b[0m \u001b[32m62.6/62.6 kB\u001b[0m \u001b[31m6.5 MB/s\u001b[0m eta \u001b[36m0:00:00\u001b[0m\n",
            "\u001b[?25hDownloading tqdm-4.66.4-py3-none-any.whl (78 kB)\n",
            "\u001b[2K   \u001b[90m━━━━━━━━━━━━━━━━━━━━━━━━━━━━━━━━━━━━━━━━\u001b[0m \u001b[32m78.3/78.3 kB\u001b[0m \u001b[31m8.3 MB/s\u001b[0m eta \u001b[36m0:00:00\u001b[0m\n",
            "\u001b[?25hDownloading filelock-3.14.0-py3-none-any.whl (12 kB)\n",
            "Downloading regex-2024.5.15-cp311-cp311-manylinux_2_17_x86_64.manylinux2014_x86_64.whl (785 kB)\n",
            "\u001b[2K   \u001b[90m━━━━━━━━━━━━━━━━━━━━━━━━━━━━━━━━━━━━━━━━\u001b[0m \u001b[32m785.0/785.0 kB\u001b[0m \u001b[31m59.3 MB/s\u001b[0m eta \u001b[36m0:00:00\u001b[0m\n",
            "\u001b[?25hDownloading typing_extensions-4.12.2-py3-none-any.whl (37 kB)\n",
            "Downloading safetensors-0.4.3-cp311-cp311-manylinux_2_17_x86_64.manylinux2014_x86_64.whl (1.2 MB)\n",
            "\u001b[2K   \u001b[90m━━━━━━━━━━━━━━━━━━━━━━━━━━━━━━━━━━━━━━━━\u001b[0m \u001b[32m1.2/1.2 MB\u001b[0m \u001b[31m68.4 MB/s\u001b[0m eta \u001b[36m0:00:00\u001b[0m\n",
            "\u001b[?25hDownloading tokenizers-0.19.1-cp311-cp311-manylinux_2_17_x86_64.manylinux2014_x86_64.whl (3.6 MB)\n",
            "\u001b[2K   \u001b[90m━━━━━━━━━━━━━━━━━━━━━━━━━━━━━━━━━━━━━━━━\u001b[0m \u001b[32m3.6/3.6 MB\u001b[0m \u001b[31m110.9 MB/s\u001b[0m eta \u001b[36m0:00:00\u001b[0m\n",
            "\u001b[?25hDownloading pydantic-2.10.3-py3-none-any.whl (456 kB)\n",
            "\u001b[2K   \u001b[90m━━━━━━━━━━━━━━━━━━━━━━━━━━━━━━━━━━━━━━━━\u001b[0m \u001b[32m457.0/457.0 kB\u001b[0m \u001b[31m40.3 MB/s\u001b[0m eta \u001b[36m0:00:00\u001b[0m\n",
            "\u001b[?25hDownloading triton-2.3.1-cp311-cp311-manylinux_2_17_x86_64.manylinux2014_x86_64.whl (168.1 MB)\n",
            "\u001b[2K   \u001b[90m━━━━━━━━━━━━━━━━━━━━━━━━━━━━━━━━━━━━━━━━\u001b[0m \u001b[32m168.1/168.1 MB\u001b[0m \u001b[31m7.0 MB/s\u001b[0m eta \u001b[36m0:00:00\u001b[0m\n",
            "\u001b[?25hDownloading pydantic_core-2.27.1-cp311-cp311-manylinux_2_17_x86_64.manylinux2014_x86_64.whl (2.1 MB)\n",
            "\u001b[2K   \u001b[90m━━━━━━━━━━━━━━━━━━━━━━━━━━━━━━━━━━━━━━━━\u001b[0m \u001b[32m2.1/2.1 MB\u001b[0m \u001b[31m94.5 MB/s\u001b[0m eta \u001b[36m0:00:00\u001b[0m\n",
            "\u001b[?25hDownloading transformers-4.44.2-py3-none-any.whl (9.5 MB)\n",
            "\u001b[2K   \u001b[90m━━━━━━━━━━━━━━━━━━━━━━━━━━━━━━━━━━━━━━━━\u001b[0m \u001b[32m9.5/9.5 MB\u001b[0m \u001b[31m132.5 MB/s\u001b[0m eta \u001b[36m0:00:00\u001b[0m\n",
            "\u001b[?25hDownloading llama_index-0.10.68-py3-none-any.whl (6.8 kB)\n",
            "Downloading langchain-0.2.17-py3-none-any.whl (1.0 MB)\n",
            "\u001b[2K   \u001b[90m━━━━━━━━━━━━━━━━━━━━━━━━━━━━━━━━━━━━━━━━\u001b[0m \u001b[32m1.0/1.0 MB\u001b[0m \u001b[31m64.6 MB/s\u001b[0m eta \u001b[36m0:00:00\u001b[0m\n",
            "\u001b[?25hDownloading nemoguardrails-0.13.0-py3-none-any.whl (11.1 MB)\n",
            "\u001b[2K   \u001b[90m━━━━━━━━━━━━━━━━━━━━━━━━━━━━━━━━━━━━━━━━\u001b[0m \u001b[32m11.1/11.1 MB\u001b[0m \u001b[31m120.4 MB/s\u001b[0m eta \u001b[36m0:00:00\u001b[0m\n",
            "\u001b[?25hDownloading llama_hub-0.0.79.post1-py3-none-any.whl (103.9 MB)\n",
            "\u001b[2K   \u001b[90m━━━━━━━━━━━━━━━━━━━━━━━━━━━━━━━━━━━━━━━━\u001b[0m \u001b[32m103.9/103.9 MB\u001b[0m \u001b[31m8.4 MB/s\u001b[0m eta \u001b[36m0:00:00\u001b[0m\n",
            "\u001b[?25hDownloading llama_index_retrievers_bm25-0.2.2-py3-none-any.whl (3.6 kB)\n",
            "Downloading torch-2.3.1-cp311-cp311-manylinux1_x86_64.whl (779.2 MB)\n",
            "\u001b[2K   \u001b[90m━━━━━━━━━━━━━━━━━━━━━━━━━━━━━━━━━━━━━━━━\u001b[0m \u001b[32m779.2/779.2 MB\u001b[0m \u001b[31m1.2 MB/s\u001b[0m eta \u001b[36m0:00:00\u001b[0m\n",
            "\u001b[?25hDownloading nvidia_cublas_cu12-12.1.3.1-py3-none-manylinux1_x86_64.whl (410.6 MB)\n",
            "\u001b[2K   \u001b[90m━━━━━━━━━━━━━━━━━━━━━━━━━━━━━━━━━━━━━━━━\u001b[0m \u001b[32m410.6/410.6 MB\u001b[0m \u001b[31m3.6 MB/s\u001b[0m eta \u001b[36m0:00:00\u001b[0m\n",
            "\u001b[?25hDownloading nvidia_cuda_cupti_cu12-12.1.105-py3-none-manylinux1_x86_64.whl (14.1 MB)\n",
            "\u001b[2K   \u001b[90m━━━━━━━━━━━━━━━━━━━━━━━━━━━━━━━━━━━━━━━━\u001b[0m \u001b[32m14.1/14.1 MB\u001b[0m \u001b[31m89.7 MB/s\u001b[0m eta \u001b[36m0:00:00\u001b[0m\n",
            "\u001b[?25hDownloading nvidia_cuda_nvrtc_cu12-12.1.105-py3-none-manylinux1_x86_64.whl (23.7 MB)\n",
            "\u001b[2K   \u001b[90m━━━━━━━━━━━━━━━━━━━━━━━━━━━━━━━━━━━━━━━━\u001b[0m \u001b[32m23.7/23.7 MB\u001b[0m \u001b[31m67.5 MB/s\u001b[0m eta \u001b[36m0:00:00\u001b[0m\n",
            "\u001b[?25hDownloading nvidia_cuda_runtime_cu12-12.1.105-py3-none-manylinux1_x86_64.whl (823 kB)\n",
            "\u001b[2K   \u001b[90m━━━━━━━━━━━━━━━━━━━━━━━━━━━━━━━━━━━━━━━━\u001b[0m \u001b[32m823.6/823.6 kB\u001b[0m \u001b[31m51.4 MB/s\u001b[0m eta \u001b[36m0:00:00\u001b[0m\n",
            "\u001b[?25hDownloading nvidia_cudnn_cu12-8.9.2.26-py3-none-manylinux1_x86_64.whl (731.7 MB)\n",
            "\u001b[2K   \u001b[90m━━━━━━━━━━━━━━━━━━━━━━━━━━━━━━━━━━━━━━━━\u001b[0m \u001b[32m731.7/731.7 MB\u001b[0m \u001b[31m1.8 MB/s\u001b[0m eta \u001b[36m0:00:00\u001b[0m\n",
            "\u001b[?25hDownloading nvidia_cufft_cu12-11.0.2.54-py3-none-manylinux1_x86_64.whl (121.6 MB)\n",
            "\u001b[2K   \u001b[90m━━━━━━━━━━━━━━━━━━━━━━━━━━━━━━━━━━━━━━━━\u001b[0m \u001b[32m121.6/121.6 MB\u001b[0m \u001b[31m7.7 MB/s\u001b[0m eta \u001b[36m0:00:00\u001b[0m\n",
            "\u001b[?25hDownloading nvidia_curand_cu12-10.3.2.106-py3-none-manylinux1_x86_64.whl (56.5 MB)\n",
            "\u001b[2K   \u001b[90m━━━━━━━━━━━━━━━━━━━━━━━━━━━━━━━━━━━━━━━━\u001b[0m \u001b[32m56.5/56.5 MB\u001b[0m \u001b[31m13.8 MB/s\u001b[0m eta \u001b[36m0:00:00\u001b[0m\n",
            "\u001b[?25hDownloading nvidia_cusolver_cu12-11.4.5.107-py3-none-manylinux1_x86_64.whl (124.2 MB)\n",
            "\u001b[2K   \u001b[90m━━━━━━━━━━━━━━━━━━━━━━━━━━━━━━━━━━━━━━━━\u001b[0m \u001b[32m124.2/124.2 MB\u001b[0m \u001b[31m7.8 MB/s\u001b[0m eta \u001b[36m0:00:00\u001b[0m\n",
            "\u001b[?25hDownloading nvidia_cusparse_cu12-12.1.0.106-py3-none-manylinux1_x86_64.whl (196.0 MB)\n",
            "\u001b[2K   \u001b[90m━━━━━━━━━━━━━━━━━━━━━━━━━━━━━━━━━━━━━━━━\u001b[0m \u001b[32m196.0/196.0 MB\u001b[0m \u001b[31m5.7 MB/s\u001b[0m eta \u001b[36m0:00:00\u001b[0m\n",
            "\u001b[?25hDownloading nvidia_nccl_cu12-2.20.5-py3-none-manylinux2014_x86_64.whl (176.2 MB)\n",
            "\u001b[2K   \u001b[90m━━━━━━━━━━━━━━━━━━━━━━━━━━━━━━━━━━━━━━━━\u001b[0m \u001b[32m176.2/176.2 MB\u001b[0m \u001b[31m6.7 MB/s\u001b[0m eta \u001b[36m0:00:00\u001b[0m\n",
            "\u001b[?25hDownloading nvidia_nvtx_cu12-12.1.105-py3-none-manylinux1_x86_64.whl (99 kB)\n",
            "\u001b[2K   \u001b[90m━━━━━━━━━━━━━━━━━━━━━━━━━━━━━━━━━━━━━━━━\u001b[0m \u001b[32m99.1/99.1 kB\u001b[0m \u001b[31m9.0 MB/s\u001b[0m eta \u001b[36m0:00:00\u001b[0m\n",
            "\u001b[?25hDownloading bm25s-0.1.10-py3-none-any.whl (29 kB)\n",
            "Downloading dataclasses_json-0.6.7-py3-none-any.whl (28 kB)\n",
            "Downloading fastapi-0.115.12-py3-none-any.whl (95 kB)\n",
            "\u001b[2K   \u001b[90m━━━━━━━━━━━━━━━━━━━━━━━━━━━━━━━━━━━━━━━━\u001b[0m \u001b[32m95.2/95.2 kB\u001b[0m \u001b[31m9.5 MB/s\u001b[0m eta \u001b[36m0:00:00\u001b[0m\n",
            "\u001b[?25hDownloading fastembed-0.4.0-py3-none-any.whl (65 kB)\n",
            "\u001b[2K   \u001b[90m━━━━━━━━━━━━━━━━━━━━━━━━━━━━━━━━━━━━━━━━\u001b[0m \u001b[32m65.1/65.1 kB\u001b[0m \u001b[31m6.5 MB/s\u001b[0m eta \u001b[36m0:00:00\u001b[0m\n",
            "\u001b[?25hDownloading jedi-0.19.2-py2.py3-none-any.whl (1.6 MB)\n",
            "\u001b[2K   \u001b[90m━━━━━━━━━━━━━━━━━━━━━━━━━━━━━━━━━━━━━━━━\u001b[0m \u001b[32m1.6/1.6 MB\u001b[0m \u001b[31m80.1 MB/s\u001b[0m eta \u001b[36m0:00:00\u001b[0m\n",
            "\u001b[?25hDownloading langchain_core-0.2.43-py3-none-any.whl (397 kB)\n",
            "\u001b[2K   \u001b[90m━━━━━━━━━━━━━━━━━━━━━━━━━━━━━━━━━━━━━━━━\u001b[0m \u001b[32m397.1/397.1 kB\u001b[0m \u001b[31m33.9 MB/s\u001b[0m eta \u001b[36m0:00:00\u001b[0m\n",
            "\u001b[?25hDownloading langchain_text_splitters-0.2.4-py3-none-any.whl (25 kB)\n",
            "Downloading langsmith-0.1.147-py3-none-any.whl (311 kB)\n",
            "\u001b[2K   \u001b[90m━━━━━━━━━━━━━━━━━━━━━━━━━━━━━━━━━━━━━━━━\u001b[0m \u001b[32m311.8/311.8 kB\u001b[0m \u001b[31m23.4 MB/s\u001b[0m eta \u001b[36m0:00:00\u001b[0m\n",
            "\u001b[?25hDownloading lark-1.2.2-py3-none-any.whl (111 kB)\n",
            "\u001b[2K   \u001b[90m━━━━━━━━━━━━━━━━━━━━━━━━━━━━━━━━━━━━━━━━\u001b[0m \u001b[32m111.0/111.0 kB\u001b[0m \u001b[31m11.8 MB/s\u001b[0m eta \u001b[36m0:00:00\u001b[0m\n",
            "\u001b[?25hDownloading llama_index_agent_openai-0.2.9-py3-none-any.whl (13 kB)\n",
            "Downloading llama_index_cli-0.1.13-py3-none-any.whl (27 kB)\n",
            "Downloading llama_index_core-0.10.68.post1-py3-none-any.whl (1.6 MB)\n",
            "\u001b[2K   \u001b[90m━━━━━━━━━━━━━━━━━━━━━━━━━━━━━━━━━━━━━━━━\u001b[0m \u001b[32m1.6/1.6 MB\u001b[0m \u001b[31m81.6 MB/s\u001b[0m eta \u001b[36m0:00:00\u001b[0m\n",
            "\u001b[?25hDownloading llama_index_embeddings_openai-0.1.11-py3-none-any.whl (6.3 kB)\n",
            "Downloading llama_index_indices_managed_llama_cloud-0.2.7-py3-none-any.whl (9.5 kB)\n",
            "Downloading llama_index_legacy-0.9.48.post4-py3-none-any.whl (1.2 MB)\n",
            "\u001b[2K   \u001b[90m━━━━━━━━━━━━━━━━━━━━━━━━━━━━━━━━━━━━━━━━\u001b[0m \u001b[32m1.2/1.2 MB\u001b[0m \u001b[31m68.4 MB/s\u001b[0m eta \u001b[36m0:00:00\u001b[0m\n",
            "\u001b[?25hDownloading llama_index_llms_openai-0.1.31-py3-none-any.whl (12 kB)\n",
            "Downloading llama_index_multi_modal_llms_openai-0.1.9-py3-none-any.whl (5.9 kB)\n",
            "Downloading llama_index_program_openai-0.1.7-py3-none-any.whl (5.3 kB)\n",
            "Downloading llama_index_question_gen_openai-0.1.3-py3-none-any.whl (2.9 kB)\n",
            "Downloading llama_index_readers_file-0.1.33-py3-none-any.whl (38 kB)\n",
            "Downloading llama_index_readers_llama_parse-0.1.6-py3-none-any.whl (2.5 kB)\n",
            "Downloading onnxruntime-1.19.2-cp311-cp311-manylinux_2_27_x86_64.manylinux_2_28_x86_64.whl (13.2 MB)\n",
            "\u001b[2K   \u001b[90m━━━━━━━━━━━━━━━━━━━━━━━━━━━━━━━━━━━━━━━━\u001b[0m \u001b[32m13.2/13.2 MB\u001b[0m \u001b[31m128.1 MB/s\u001b[0m eta \u001b[36m0:00:00\u001b[0m\n",
            "\u001b[?25hDownloading pyaml-23.12.0-py3-none-any.whl (23 kB)\n",
            "Downloading PyStemmer-2.2.0.3-cp311-cp311-manylinux_2_5_x86_64.manylinux1_x86_64.manylinux_2_17_x86_64.manylinux2014_x86_64.whl (669 kB)\n",
            "\u001b[2K   \u001b[90m━━━━━━━━━━━━━━━━━━━━━━━━━━━━━━━━━━━━━━━━\u001b[0m \u001b[32m669.3/669.3 kB\u001b[0m \u001b[31m47.7 MB/s\u001b[0m eta \u001b[36m0:00:00\u001b[0m\n",
            "\u001b[?25hDownloading simpleeval-1.0.3-py3-none-any.whl (15 kB)\n",
            "Downloading starlette-0.46.2-py3-none-any.whl (72 kB)\n",
            "\u001b[2K   \u001b[90m━━━━━━━━━━━━━━━━━━━━━━━━━━━━━━━━━━━━━━━━\u001b[0m \u001b[32m72.0/72.0 kB\u001b[0m \u001b[31m6.6 MB/s\u001b[0m eta \u001b[36m0:00:00\u001b[0m\n",
            "\u001b[?25hDownloading tenacity-8.5.0-py3-none-any.whl (28 kB)\n",
            "Downloading text_generation-0.7.0-py3-none-any.whl (12 kB)\n",
            "Downloading uvicorn-0.34.2-py3-none-any.whl (62 kB)\n",
            "\u001b[2K   \u001b[90m━━━━━━━━━━━━━━━━━━━━━━━━━━━━━━━━━━━━━━━━\u001b[0m \u001b[32m62.5/62.5 kB\u001b[0m \u001b[31m6.1 MB/s\u001b[0m eta \u001b[36m0:00:00\u001b[0m\n",
            "\u001b[?25hDownloading watchdog-6.0.0-py3-none-manylinux2014_x86_64.whl (79 kB)\n",
            "\u001b[2K   \u001b[90m━━━━━━━━━━━━━━━━━━━━━━━━━━━━━━━━━━━━━━━━\u001b[0m \u001b[32m79.1/79.1 kB\u001b[0m \u001b[31m7.7 MB/s\u001b[0m eta \u001b[36m0:00:00\u001b[0m\n",
            "\u001b[?25hDownloading html2text-2025.4.15-py3-none-any.whl (34 kB)\n",
            "Downloading retrying-1.3.4-py3-none-any.whl (11 kB)\n",
            "Downloading dirtyjson-1.0.8-py3-none-any.whl (25 kB)\n",
            "Downloading llama_cloud-0.1.18-py3-none-any.whl (253 kB)\n",
            "\u001b[2K   \u001b[90m━━━━━━━━━━━━━━━━━━━━━━━━━━━━━━━━━━━━━━━━\u001b[0m \u001b[32m253.1/253.1 kB\u001b[0m \u001b[31m23.1 MB/s\u001b[0m eta \u001b[36m0:00:00\u001b[0m\n",
            "\u001b[?25hDownloading llama_parse-0.4.9-py3-none-any.whl (9.4 kB)\n",
            "Downloading loguru-0.7.3-py3-none-any.whl (61 kB)\n",
            "\u001b[2K   \u001b[90m━━━━━━━━━━━━━━━━━━━━━━━━━━━━━━━━━━━━━━━━\u001b[0m \u001b[32m61.6/61.6 kB\u001b[0m \u001b[31m6.1 MB/s\u001b[0m eta \u001b[36m0:00:00\u001b[0m\n",
            "\u001b[?25hDownloading marshmallow-3.26.1-py3-none-any.whl (50 kB)\n",
            "\u001b[2K   \u001b[90m━━━━━━━━━━━━━━━━━━━━━━━━━━━━━━━━━━━━━━━━\u001b[0m \u001b[32m50.9/50.9 kB\u001b[0m \u001b[31m5.2 MB/s\u001b[0m eta \u001b[36m0:00:00\u001b[0m\n",
            "\u001b[?25hDownloading minijinja-2.9.0-cp38-abi3-manylinux_2_17_x86_64.manylinux2014_x86_64.whl (1.0 MB)\n",
            "\u001b[2K   \u001b[90m━━━━━━━━━━━━━━━━━━━━━━━━━━━━━━━━━━━━━━━━\u001b[0m \u001b[32m1.0/1.0 MB\u001b[0m \u001b[31m63.8 MB/s\u001b[0m eta \u001b[36m0:00:00\u001b[0m\n",
            "\u001b[?25hDownloading mmh3-4.1.0-cp311-cp311-manylinux_2_5_x86_64.manylinux1_x86_64.manylinux_2_17_x86_64.manylinux2014_x86_64.whl (67 kB)\n",
            "\u001b[2K   \u001b[90m━━━━━━━━━━━━━━━━━━━━━━━━━━━━━━━━━━━━━━━━\u001b[0m \u001b[32m67.8/67.8 kB\u001b[0m \u001b[31m7.0 MB/s\u001b[0m eta \u001b[36m0:00:00\u001b[0m\n",
            "\u001b[?25hDownloading onnx-1.17.0-cp311-cp311-manylinux_2_17_x86_64.manylinux2014_x86_64.whl (16.0 MB)\n",
            "\u001b[2K   \u001b[90m━━━━━━━━━━━━━━━━━━━━━━━━━━━━━━━━━━━━━━━━\u001b[0m \u001b[32m16.0/16.0 MB\u001b[0m \u001b[31m108.4 MB/s\u001b[0m eta \u001b[36m0:00:00\u001b[0m\n",
            "\u001b[?25hDownloading pillow-10.4.0-cp311-cp311-manylinux_2_28_x86_64.whl (4.5 MB)\n",
            "\u001b[2K   \u001b[90m━━━━━━━━━━━━━━━━━━━━━━━━━━━━━━━━━━━━━━━━\u001b[0m \u001b[32m4.5/4.5 MB\u001b[0m \u001b[31m125.9 MB/s\u001b[0m eta \u001b[36m0:00:00\u001b[0m\n",
            "\u001b[?25hDownloading striprtf-0.0.26-py3-none-any.whl (6.9 kB)\n",
            "Downloading tiktoken-0.9.0-cp311-cp311-manylinux_2_17_x86_64.manylinux2014_x86_64.whl (1.2 MB)\n",
            "\u001b[2K   \u001b[90m━━━━━━━━━━━━━━━━━━━━━━━━━━━━━━━━━━━━━━━━\u001b[0m \u001b[32m1.2/1.2 MB\u001b[0m \u001b[31m69.8 MB/s\u001b[0m eta \u001b[36m0:00:00\u001b[0m\n",
            "\u001b[?25hDownloading typing_inspect-0.9.0-py3-none-any.whl (8.8 kB)\n",
            "Downloading coloredlogs-15.0.1-py2.py3-none-any.whl (46 kB)\n",
            "\u001b[2K   \u001b[90m━━━━━━━━━━━━━━━━━━━━━━━━━━━━━━━━━━━━━━━━\u001b[0m \u001b[32m46.0/46.0 kB\u001b[0m \u001b[31m3.7 MB/s\u001b[0m eta \u001b[36m0:00:00\u001b[0m\n",
            "\u001b[?25hDownloading humanfriendly-10.0-py2.py3-none-any.whl (86 kB)\n",
            "\u001b[2K   \u001b[90m━━━━━━━━━━━━━━━━━━━━━━━━━━━━━━━━━━━━━━━━\u001b[0m \u001b[32m86.8/86.8 kB\u001b[0m \u001b[31m8.4 MB/s\u001b[0m eta \u001b[36m0:00:00\u001b[0m\n",
            "\u001b[?25hDownloading mypy_extensions-1.0.0-py3-none-any.whl (4.7 kB)\n",
            "Building wheels for collected packages: annoy\n",
            "  Building wheel for annoy (setup.py) ... \u001b[?25l\u001b[?25hdone\n",
            "  Created wheel for annoy: filename=annoy-1.17.3-cp311-cp311-linux_x86_64.whl size=553321 sha256=d913c1b545b5ca0da941eb594c6221ff00177c98eb6878c08dbb00b6b44da085\n",
            "  Stored in directory: /root/.cache/pip/wheels/33/e5/58/0a3e34b92bedf09b4c57e37a63ff395ade6f6c1099ba59877c\n",
            "Successfully built annoy\n",
            "Installing collected packages: striprtf, sentencepiece, pystemmer, mmh3, dirtyjson, annoy, watchdog, uvicorn, typing-extensions, tqdm, tenacity, simpleeval, safetensors, retrying, requests, regex, pyyaml, pypdf, pillow, packaging, nvidia-nvtx-cu12, nvidia-nccl-cu12, nvidia-cusparse-cu12, nvidia-curand-cu12, nvidia-cufft-cu12, nvidia-cuda-runtime-cu12, nvidia-cuda-nvrtc-cu12, nvidia-cuda-cupti-cu12, nvidia-cublas-cu12, numpy, mypy-extensions, minijinja, loguru, lark, jedi, humanfriendly, html2text, filelock, typing-inspect, triton, tiktoken, pydantic-core, pyaml, onnx, nvidia-cusolver-cu12, nvidia-cudnn-cu12, marshmallow, huggingface-hub, coloredlogs, torch, tokenizers, starlette, pydantic, onnxruntime, dataclasses-json, bm25s, transformers, text-generation, llama-index-core, llama-cloud, langsmith, fastembed, fastapi, bitsandbytes, accelerate, peft, llama-parse, llama-index-retrievers-bm25, llama-index-readers-file, llama-index-llms-openai, llama-index-legacy, llama-index-indices-managed-llama-cloud, llama-index-embeddings-openai, llama-index-embeddings-langchain, langchain-core, llama-index-readers-llama-parse, llama-index-multi-modal-llms-openai, llama-index-llms-huggingface, llama-index-embeddings-huggingface, llama-index-cli, llama-index-agent-openai, langchain-text-splitters, langchain-huggingface, llama-index-program-openai, langchain, llama-index-question-gen-openai, langchain_community, nemoguardrails, llama_index, llama-hub\n",
            "  Attempting uninstall: sentencepiece\n",
            "    Found existing installation: sentencepiece 0.2.0\n",
            "    Uninstalling sentencepiece-0.2.0:\n",
            "      Successfully uninstalled sentencepiece-0.2.0\n",
            "  Attempting uninstall: typing-extensions\n",
            "    Found existing installation: typing_extensions 4.13.2\n",
            "    Uninstalling typing_extensions-4.13.2:\n",
            "      Successfully uninstalled typing_extensions-4.13.2\n",
            "  Attempting uninstall: tqdm\n",
            "    Found existing installation: tqdm 4.67.1\n",
            "    Uninstalling tqdm-4.67.1:\n",
            "      Successfully uninstalled tqdm-4.67.1\n",
            "  Attempting uninstall: tenacity\n",
            "    Found existing installation: tenacity 9.1.2\n",
            "    Uninstalling tenacity-9.1.2:\n",
            "      Successfully uninstalled tenacity-9.1.2\n",
            "  Attempting uninstall: safetensors\n",
            "    Found existing installation: safetensors 0.5.3\n",
            "    Uninstalling safetensors-0.5.3:\n",
            "      Successfully uninstalled safetensors-0.5.3\n",
            "  Attempting uninstall: requests\n",
            "    Found existing installation: requests 2.32.3\n",
            "    Uninstalling requests-2.32.3:\n",
            "      Successfully uninstalled requests-2.32.3\n",
            "  Attempting uninstall: regex\n",
            "    Found existing installation: regex 2024.11.6\n",
            "    Uninstalling regex-2024.11.6:\n",
            "      Successfully uninstalled regex-2024.11.6\n",
            "  Attempting uninstall: pyyaml\n",
            "    Found existing installation: PyYAML 6.0.2\n",
            "    Uninstalling PyYAML-6.0.2:\n",
            "      Successfully uninstalled PyYAML-6.0.2\n",
            "  Attempting uninstall: pillow\n",
            "    Found existing installation: pillow 11.1.0\n",
            "    Uninstalling pillow-11.1.0:\n",
            "      Successfully uninstalled pillow-11.1.0\n",
            "  Attempting uninstall: packaging\n",
            "    Found existing installation: packaging 24.2\n",
            "    Uninstalling packaging-24.2:\n",
            "      Successfully uninstalled packaging-24.2\n",
            "  Attempting uninstall: nvidia-nvtx-cu12\n",
            "    Found existing installation: nvidia-nvtx-cu12 12.4.127\n",
            "    Uninstalling nvidia-nvtx-cu12-12.4.127:\n",
            "      Successfully uninstalled nvidia-nvtx-cu12-12.4.127\n",
            "  Attempting uninstall: nvidia-nccl-cu12\n",
            "    Found existing installation: nvidia-nccl-cu12 2.21.5\n",
            "    Uninstalling nvidia-nccl-cu12-2.21.5:\n",
            "      Successfully uninstalled nvidia-nccl-cu12-2.21.5\n",
            "  Attempting uninstall: nvidia-cusparse-cu12\n",
            "    Found existing installation: nvidia-cusparse-cu12 12.5.1.3\n",
            "    Uninstalling nvidia-cusparse-cu12-12.5.1.3:\n",
            "      Successfully uninstalled nvidia-cusparse-cu12-12.5.1.3\n",
            "  Attempting uninstall: nvidia-curand-cu12\n",
            "    Found existing installation: nvidia-curand-cu12 10.3.6.82\n",
            "    Uninstalling nvidia-curand-cu12-10.3.6.82:\n",
            "      Successfully uninstalled nvidia-curand-cu12-10.3.6.82\n",
            "  Attempting uninstall: nvidia-cufft-cu12\n",
            "    Found existing installation: nvidia-cufft-cu12 11.2.3.61\n",
            "    Uninstalling nvidia-cufft-cu12-11.2.3.61:\n",
            "      Successfully uninstalled nvidia-cufft-cu12-11.2.3.61\n",
            "  Attempting uninstall: nvidia-cuda-runtime-cu12\n",
            "    Found existing installation: nvidia-cuda-runtime-cu12 12.5.82\n",
            "    Uninstalling nvidia-cuda-runtime-cu12-12.5.82:\n",
            "      Successfully uninstalled nvidia-cuda-runtime-cu12-12.5.82\n",
            "  Attempting uninstall: nvidia-cuda-nvrtc-cu12\n",
            "    Found existing installation: nvidia-cuda-nvrtc-cu12 12.5.82\n",
            "    Uninstalling nvidia-cuda-nvrtc-cu12-12.5.82:\n",
            "      Successfully uninstalled nvidia-cuda-nvrtc-cu12-12.5.82\n",
            "  Attempting uninstall: nvidia-cuda-cupti-cu12\n",
            "    Found existing installation: nvidia-cuda-cupti-cu12 12.5.82\n",
            "    Uninstalling nvidia-cuda-cupti-cu12-12.5.82:\n",
            "      Successfully uninstalled nvidia-cuda-cupti-cu12-12.5.82\n",
            "  Attempting uninstall: nvidia-cublas-cu12\n",
            "    Found existing installation: nvidia-cublas-cu12 12.5.3.2\n",
            "    Uninstalling nvidia-cublas-cu12-12.5.3.2:\n",
            "      Successfully uninstalled nvidia-cublas-cu12-12.5.3.2\n",
            "  Attempting uninstall: numpy\n",
            "    Found existing installation: numpy 2.0.2\n",
            "    Uninstalling numpy-2.0.2:\n",
            "      Successfully uninstalled numpy-2.0.2\n",
            "  Attempting uninstall: filelock\n",
            "    Found existing installation: filelock 3.18.0\n",
            "    Uninstalling filelock-3.18.0:\n",
            "      Successfully uninstalled filelock-3.18.0\n",
            "  Attempting uninstall: triton\n",
            "    Found existing installation: triton 3.2.0\n",
            "    Uninstalling triton-3.2.0:\n",
            "      Successfully uninstalled triton-3.2.0\n",
            "  Attempting uninstall: pydantic-core\n",
            "    Found existing installation: pydantic_core 2.33.1\n",
            "    Uninstalling pydantic_core-2.33.1:\n",
            "      Successfully uninstalled pydantic_core-2.33.1\n",
            "  Attempting uninstall: nvidia-cusolver-cu12\n",
            "    Found existing installation: nvidia-cusolver-cu12 11.6.3.83\n",
            "    Uninstalling nvidia-cusolver-cu12-11.6.3.83:\n",
            "      Successfully uninstalled nvidia-cusolver-cu12-11.6.3.83\n",
            "  Attempting uninstall: nvidia-cudnn-cu12\n",
            "    Found existing installation: nvidia-cudnn-cu12 9.3.0.75\n",
            "    Uninstalling nvidia-cudnn-cu12-9.3.0.75:\n",
            "      Successfully uninstalled nvidia-cudnn-cu12-9.3.0.75\n",
            "  Attempting uninstall: huggingface-hub\n",
            "    Found existing installation: huggingface-hub 0.30.2\n",
            "    Uninstalling huggingface-hub-0.30.2:\n",
            "      Successfully uninstalled huggingface-hub-0.30.2\n",
            "  Attempting uninstall: torch\n",
            "    Found existing installation: torch 2.6.0+cu124\n",
            "    Uninstalling torch-2.6.0+cu124:\n",
            "      Successfully uninstalled torch-2.6.0+cu124\n",
            "  Attempting uninstall: tokenizers\n",
            "    Found existing installation: tokenizers 0.21.1\n",
            "    Uninstalling tokenizers-0.21.1:\n",
            "      Successfully uninstalled tokenizers-0.21.1\n",
            "  Attempting uninstall: pydantic\n",
            "    Found existing installation: pydantic 2.11.3\n",
            "    Uninstalling pydantic-2.11.3:\n",
            "      Successfully uninstalled pydantic-2.11.3\n",
            "  Attempting uninstall: transformers\n",
            "    Found existing installation: transformers 4.51.3\n",
            "    Uninstalling transformers-4.51.3:\n",
            "      Successfully uninstalled transformers-4.51.3\n",
            "  Attempting uninstall: langsmith\n",
            "    Found existing installation: langsmith 0.3.31\n",
            "    Uninstalling langsmith-0.3.31:\n",
            "      Successfully uninstalled langsmith-0.3.31\n",
            "  Attempting uninstall: accelerate\n",
            "    Found existing installation: accelerate 1.5.2\n",
            "    Uninstalling accelerate-1.5.2:\n",
            "      Successfully uninstalled accelerate-1.5.2\n",
            "  Attempting uninstall: peft\n",
            "    Found existing installation: peft 0.14.0\n",
            "    Uninstalling peft-0.14.0:\n",
            "      Successfully uninstalled peft-0.14.0\n",
            "  Attempting uninstall: langchain-core\n",
            "    Found existing installation: langchain-core 0.3.52\n",
            "    Uninstalling langchain-core-0.3.52:\n",
            "      Successfully uninstalled langchain-core-0.3.52\n",
            "  Attempting uninstall: langchain-text-splitters\n",
            "    Found existing installation: langchain-text-splitters 0.3.8\n",
            "    Uninstalling langchain-text-splitters-0.3.8:\n",
            "      Successfully uninstalled langchain-text-splitters-0.3.8\n",
            "  Attempting uninstall: langchain\n",
            "    Found existing installation: langchain 0.3.23\n",
            "    Uninstalling langchain-0.3.23:\n",
            "      Successfully uninstalled langchain-0.3.23\n",
            "\u001b[31mERROR: pip's dependency resolver does not currently take into account all the packages that are installed. This behaviour is the source of the following dependency conflicts.\n",
            "google-colab 1.0.0 requires requests==2.32.3, but you have requests 2.31.0 which is incompatible.\n",
            "pytensor 2.30.3 requires filelock>=3.15, but you have filelock 3.14.0 which is incompatible.\n",
            "torchvision 0.21.0+cu124 requires torch==2.6.0, but you have torch 2.3.1 which is incompatible.\n",
            "tensorflow 2.18.0 requires numpy<2.1.0,>=1.26.0, but you have numpy 1.25.2 which is incompatible.\n",
            "torchaudio 2.6.0+cu124 requires torch==2.6.0, but you have torch 2.3.1 which is incompatible.\n",
            "google-cloud-bigquery 3.31.0 requires packaging>=24.2.0, but you have packaging 24.1 which is incompatible.\n",
            "blosc2 3.3.0 requires numpy>=1.26, but you have numpy 1.25.2 which is incompatible.\n",
            "thinc 8.3.6 requires numpy<3.0.0,>=2.0.0, but you have numpy 1.25.2 which is incompatible.\u001b[0m\u001b[31m\n",
            "\u001b[0mSuccessfully installed accelerate-0.31.0 annoy-1.17.3 bitsandbytes-0.43.1 bm25s-0.1.10 coloredlogs-15.0.1 dataclasses-json-0.6.7 dirtyjson-1.0.8 fastapi-0.115.12 fastembed-0.4.0 filelock-3.14.0 html2text-2025.4.15 huggingface-hub-0.23.3 humanfriendly-10.0 jedi-0.19.2 langchain-0.2.17 langchain-core-0.2.43 langchain-huggingface-0.0.3 langchain-text-splitters-0.2.4 langchain_community-0.2.5 langsmith-0.1.147 lark-1.2.2 llama-cloud-0.1.18 llama-hub-0.0.79.post1 llama-index-agent-openai-0.2.9 llama-index-cli-0.1.13 llama-index-core-0.10.68.post1 llama-index-embeddings-huggingface-0.2.2 llama-index-embeddings-langchain-0.1.2 llama-index-embeddings-openai-0.1.11 llama-index-indices-managed-llama-cloud-0.2.7 llama-index-legacy-0.9.48.post4 llama-index-llms-huggingface-0.2.3 llama-index-llms-openai-0.1.31 llama-index-multi-modal-llms-openai-0.1.9 llama-index-program-openai-0.1.7 llama-index-question-gen-openai-0.1.3 llama-index-readers-file-0.1.33 llama-index-readers-llama-parse-0.1.6 llama-index-retrievers-bm25-0.2.2 llama-parse-0.4.9 llama_index-0.10.68 loguru-0.7.3 marshmallow-3.26.1 minijinja-2.9.0 mmh3-4.1.0 mypy-extensions-1.0.0 nemoguardrails-0.13.0 numpy-1.25.2 nvidia-cublas-cu12-12.1.3.1 nvidia-cuda-cupti-cu12-12.1.105 nvidia-cuda-nvrtc-cu12-12.1.105 nvidia-cuda-runtime-cu12-12.1.105 nvidia-cudnn-cu12-8.9.2.26 nvidia-cufft-cu12-11.0.2.54 nvidia-curand-cu12-10.3.2.106 nvidia-cusolver-cu12-11.4.5.107 nvidia-cusparse-cu12-12.1.0.106 nvidia-nccl-cu12-2.20.5 nvidia-nvtx-cu12-12.1.105 onnx-1.17.0 onnxruntime-1.19.2 packaging-24.1 peft-0.11.1 pillow-10.4.0 pyaml-23.12.0 pydantic-2.10.3 pydantic-core-2.27.1 pypdf-4.2.0 pystemmer-2.2.0.3 pyyaml-6.0.1 regex-2024.5.15 requests-2.31.0 retrying-1.3.4 safetensors-0.4.3 sentencepiece-0.1.99 simpleeval-1.0.3 starlette-0.46.2 striprtf-0.0.26 tenacity-8.5.0 text-generation-0.7.0 tiktoken-0.9.0 tokenizers-0.19.1 torch-2.3.1 tqdm-4.66.4 transformers-4.44.2 triton-2.3.1 typing-extensions-4.12.2 typing-inspect-0.9.0 uvicorn-0.34.2 watchdog-6.0.0\n"
          ]
        },
        {
          "output_type": "display_data",
          "data": {
            "application/vnd.colab-display-data+json": {
              "pip_warning": {
                "packages": [
                  "PIL",
                  "numpy"
                ]
              },
              "id": "f34c7850678f439c8a070b8065a5f183"
            }
          },
          "metadata": {}
        }
      ]
    },
    {
      "cell_type": "markdown",
      "source": [
        "# Импорт"
      ],
      "metadata": {
        "id": "dDGWrOgdIY6U"
      }
    },
    {
      "cell_type": "code",
      "source": [
        "import torch # Торч\n",
        "import gdown # Для скачивания с гугл диска\n",
        "import textwrap # Wrap для текста в print\n",
        "import getpass # для работы с паролями\n",
        "import os # для работы с окружением и файловой системой\n",
        "import openai # # Поддержка эмбеддингов и моделей от OpenAI\n",
        "\n",
        "from llama_index.core import VectorStoreIndex, SimpleDirectoryReader # для загрузки файла и его векторизации\n",
        "from llama_index.core import KnowledgeGraphIndex # для создания индекса на основе графа знаний\n",
        "from llama_index.core import Settings # настройка глобальных параметров фреймворка\n",
        "from llama_index.core.graph_stores import SimpleGraphStore # для хранения графов знаний\n",
        "from llama_index.core import StorageContext # для управления контекстом хранения данных\n",
        "from llama_index.embeddings.huggingface import HuggingFaceEmbedding # для использования эмбеддингов HuggingFace\n",
        "from llama_index.llms.huggingface import HuggingFaceLLM # для использования моделей HuggingFace\n",
        "from peft import PeftModel, PeftConfig # для работы с PEFT моделями и их конфигурацией\n",
        "from transformers import AutoModelForCausalLM, AutoTokenizer, GenerationConfig, BitsAndBytesConfig, AutoModelForSeq2SeqLM # для работы с моделями и токенизаторами из transformers\n",
        "from llama_index.embeddings.langchain import LangchainEmbedding # для использования эмбеддингов Langchain\n",
        "from llama_index.embeddings.openai import OpenAIEmbedding # для использования эмбеддингов OpenAI\n",
        "from llama_index.core.postprocessor import LLMRerank, LongContextReorder # модуль реранжирования на базе LLM\n",
        "from llama_index.core.indices.query.query_transform import HyDEQueryTransform # инструмент преобразования\n",
        "from llama_index.core.query_engine import TransformQueryEngine # модифицированный под метод движок запросов\n",
        "from IPython.display import Markdown # отформатируем текст как markdown\n",
        "from huggingface_hub import login # для авторизации на HuggingFace"
      ],
      "metadata": {
        "colab": {
          "base_uri": "https://localhost:8080/"
        },
        "id": "uXYQplmPiJuE",
        "outputId": "4e78e8b0-6e9f-4f02-d555-6ccc1c5653b9"
      },
      "execution_count": null,
      "outputs": [
        {
          "output_type": "stream",
          "name": "stderr",
          "text": [
            "[nltk_data] Downloading package punkt_tab to\n",
            "[nltk_data]     /usr/local/lib/python3.11/dist-\n",
            "[nltk_data]     packages/llama_index/core/_static/nltk_cache...\n",
            "[nltk_data]   Unzipping tokenizers/punkt_tab.zip.\n"
          ]
        }
      ]
    },
    {
      "cell_type": "markdown",
      "source": [
        "# Авторизируемся на HuggingFace"
      ],
      "metadata": {
        "id": "Ig-5Ht3Zcmtl"
      }
    },
    {
      "cell_type": "code",
      "source": [
        "HF_TOKEN = getpass.getpass(\"Введите Hugging Face token:\")"
      ],
      "metadata": {
        "colab": {
          "base_uri": "https://localhost:8080/"
        },
        "id": "PEbByEYVlZzY",
        "outputId": "d5283ebd-d1e2-4c32-af20-23352730e2cd"
      },
      "execution_count": null,
      "outputs": [
        {
          "name": "stdout",
          "output_type": "stream",
          "text": [
            "Введите Hugging Face token:··········\n"
          ]
        }
      ]
    },
    {
      "cell_type": "code",
      "source": [
        "login(HF_TOKEN, add_to_git_credential=True)"
      ],
      "metadata": {
        "colab": {
          "base_uri": "https://localhost:8080/"
        },
        "id": "yFd3nmjEYUr8",
        "outputId": "f72df51b-cf8e-4c7f-d093-042577ab25d5"
      },
      "execution_count": null,
      "outputs": [
        {
          "output_type": "stream",
          "name": "stdout",
          "text": [
            "Token is valid (permission: write).\n",
            "Your token has been saved in your configured git credential helpers (store).\n",
            "Your token has been saved to /root/.cache/huggingface/token\n",
            "Login successful\n"
          ]
        }
      ]
    },
    {
      "cell_type": "markdown",
      "source": [
        "# Устанавливаем ключ OpenAI"
      ],
      "metadata": {
        "id": "YLzbYcAIXLd5"
      }
    },
    {
      "cell_type": "code",
      "source": [
        "# Запрос ввода ключа от OpenAI\n",
        "os.environ[\"OPENAI_API_KEY\"] = getpass.getpass(\"Введите OpenAI API Key:\")"
      ],
      "metadata": {
        "colab": {
          "base_uri": "https://localhost:8080/"
        },
        "id": "_9BqVKr6XHuY",
        "outputId": "60810f72-9876-4926-dd4f-64a8b6eb4e16"
      },
      "execution_count": null,
      "outputs": [
        {
          "name": "stdout",
          "output_type": "stream",
          "text": [
            "Введите OpenAI API Key:··········\n"
          ]
        }
      ]
    },
    {
      "cell_type": "markdown",
      "source": [
        "# Вспомогательные функции"
      ],
      "metadata": {
        "id": "Xr7n9vNqKd9S"
      }
    },
    {
      "cell_type": "code",
      "source": [
        "def messages_to_prompt(messages):\n",
        "    prompt = \"\"\n",
        "    for message in messages:\n",
        "        if message.role == 'system':\n",
        "            prompt += f\"<s>{message.role}\\n{message.content}</s>\\n\"\n",
        "        elif message.role == 'user':\n",
        "            prompt += f\"<s>{message.role}\\n{message.content}</s>\\n\"\n",
        "        elif message.role == 'bot':\n",
        "            prompt += f\"<s>bot\\n\"\n",
        "\n",
        "    # ensure we start with a system prompt, insert blank if needed\n",
        "    if not prompt.startswith(\"<s>system\\n\"):\n",
        "        prompt = \"<s>system\\n</s>\\n\" + prompt\n",
        "\n",
        "    # add final assistant prompt\n",
        "    prompt = prompt + \"<s>bot\\n\"\n",
        "    return prompt\n",
        "\n",
        "def completion_to_prompt(completion):\n",
        "    return f\"<s>system\\n</s>\\n<s>user\\n{completion}</s>\\n<s>bot\\n\""
      ],
      "metadata": {
        "id": "zB5PPSXaKdk8"
      },
      "execution_count": null,
      "outputs": []
    },
    {
      "cell_type": "markdown",
      "source": [
        "# Загрузка модели Saiga Mistral 7B"
      ],
      "metadata": {
        "id": "LNAuF2WgKi74"
      }
    },
    {
      "cell_type": "code",
      "source": [
        "# Определяем параметры квантования, иначе модель не выполниться в колабе\n",
        "quantization_config = BitsAndBytesConfig(\n",
        "    load_in_4bit=True,\n",
        "    bnb_4bit_compute_dtype=torch.float16,\n",
        "    bnb_4bit_quant_type=\"nf4\",\n",
        "    bnb_4bit_use_double_quant=True,\n",
        ")\n",
        "\n",
        "# Задаем имя модели\n",
        "MODEL_NAME = \"IlyaGusev/saiga_mistral_7b\"\n",
        "\n",
        "# Создание конфига, соответствующего методу PEFT (в нашем случае LoRA)\n",
        "config = PeftConfig.from_pretrained(MODEL_NAME)\n",
        "\n",
        "# Загружаем базовую модель, ее имя берем из конфига для LoRA\n",
        "model = AutoModelForCausalLM.from_pretrained(\n",
        "    config.base_model_name_or_path,          # идентификатор модели\n",
        "    quantization_config=quantization_config, # параметры квантования\n",
        "    torch_dtype=torch.float16,               # тип данных\n",
        "    device_map={\"\": 0}                       # использовать GPU:0, трюк если auto приводит к ошибке\n",
        ")\n",
        "\n",
        "# Загружаем LoRA модель\n",
        "model = PeftModel.from_pretrained(\n",
        "    model,\n",
        "    MODEL_NAME,\n",
        "    torch_dtype=torch.float16\n",
        ")\n",
        "\n",
        "# Переводим модель в режим инференса\n",
        "# Можно не переводить, но явное всегда лучше неявного\n",
        "model.eval()\n",
        "\n",
        "# Загружаем токенизатор\n",
        "tokenizer = AutoTokenizer.from_pretrained(MODEL_NAME, use_fast=False)"
      ],
      "metadata": {
        "id": "YFZr0lxHPUL2"
      },
      "execution_count": null,
      "outputs": []
    },
    {
      "cell_type": "code",
      "source": [
        "generation_config = GenerationConfig.from_pretrained(MODEL_NAME)\n",
        "print(generation_config)"
      ],
      "metadata": {
        "id": "TKcseJiwPVmZ"
      },
      "execution_count": null,
      "outputs": []
    },
    {
      "cell_type": "code",
      "source": [
        "llm = HuggingFaceLLM(\n",
        "    model=model,             # модель\n",
        "    model_name=MODEL_NAME,   # идентификатор модели\n",
        "    tokenizer=tokenizer,     # токенизатор\n",
        "    max_new_tokens=generation_config.max_new_tokens, # параметр необходимо использовать здесь, и не использовать в generate_kwargs, иначе ошибка двойного использования\n",
        "    model_kwargs={\"quantization_config\": quantization_config}, # параметры квантования\n",
        "    generate_kwargs = {   # параметры для инференса\n",
        "      \"bos_token_id\": generation_config.bos_token_id, # токен начала последовательности\n",
        "      \"eos_token_id\": generation_config.eos_token_id, # токен окончания последовательности\n",
        "      \"pad_token_id\": generation_config.pad_token_id, # токен пакетной обработки (указывает, что последовательность ещё не завершена)\n",
        "      \"no_repeat_ngram_size\": generation_config.no_repeat_ngram_size,\n",
        "      \"repetition_penalty\": generation_config.repetition_penalty,\n",
        "      \"temperature\": generation_config.temperature,\n",
        "      \"do_sample\": True,\n",
        "      \"top_k\": 50,\n",
        "      \"top_p\": 0.95\n",
        "    },\n",
        "    messages_to_prompt=messages_to_prompt,     # функция для преобразования сообщений к внутреннему формату\n",
        "    completion_to_prompt=completion_to_prompt, # функции для генерации текста\n",
        "    device_map=\"auto\",                         # автоматически определять устройство\n",
        ")"
      ],
      "metadata": {
        "id": "gA8EKUYOKo3M"
      },
      "execution_count": null,
      "outputs": []
    },
    {
      "cell_type": "markdown",
      "source": [
        "# Создание базы знаний"
      ],
      "metadata": {
        "id": "45rfC1tLdMpY"
      }
    },
    {
      "cell_type": "markdown",
      "source": [
        "Скачиваем книги по Python."
      ],
      "metadata": {
        "id": "sty9F5Hccr1X"
      }
    },
    {
      "cell_type": "code",
      "source": [
        "# Создаем папку data\n",
        "!mkdir -p 'data/'\n",
        "\n",
        "# Ссылка на папку Google Drive\n",
        "folder_url = \"https://drive.google.com/drive/folders/1RFJybHJYN_Hwc-iErmgq-c43C_M74IRE\"\n",
        "\n",
        "# Идентификатор папки (последняя часть URL)\n",
        "folder_id = folder_url.split('/')[-1]\n",
        "\n",
        "# Указание флага --folder для скачивания всей папки\n",
        "gdown.download_folder(id=folder_id, output='data/', quiet=False, use_cookies=False)"
      ],
      "metadata": {
        "colab": {
          "base_uri": "https://localhost:8080/"
        },
        "id": "XLQTuY9NVhKW",
        "outputId": "7ce84fd5-1989-4d52-d772-e50fbc921ea3"
      },
      "execution_count": null,
      "outputs": [
        {
          "output_type": "stream",
          "name": "stderr",
          "text": [
            "Retrieving folder contents\n"
          ]
        },
        {
          "output_type": "stream",
          "name": "stdout",
          "text": [
            "Processing file 1gFN1l9rf2LFmkF4FME9Hf-j1sFxD_-zn Grigorev_Mashinnoe_obuchenie_Portfolio_realnyh_proektov_796917.pdf\n",
            "Processing file 1CDQ6_rTekO5MIHBeD_bFnCKcPkLZIaMk Алгоритмы с примерами на Python-1.pdf\n",
            "Processing file 1LxxAx-ctnc8GDvmAP2rnmhnk3fklTcQy Мат. алгоритмы для программистов.pdf\n",
            "Processing file 1xMz0idKlAXBu3vLJnpSrKanFbtLvipMS Создание_настольных_Python_приложений_1.pdf\n",
            "Processing file 1JM_fQqiEyp_4Lh-TGEsCl9izyulj7R1Y Python. Создаем программы и игры.pdf\n",
            "Processing file 1GUqgva2zJ42akDTZQOCI0NDeerFSAFQe Python. Полное руководство-1.pdf\n",
            "Processing file 1KmitZt3QxZh9Rto9nFc6DocwOB179FDj Практическое_введение_в_решение_дифференциальных_уравнений_в_Python.pdf\n",
            "Processing file 1wiZiOMGPDEyM1LfADonJknoN8Cwkh2EN CS для программиста-самоучки-1.pdf\n"
          ]
        },
        {
          "output_type": "stream",
          "name": "stderr",
          "text": [
            "Retrieving folder contents completed\n",
            "Building directory structure\n",
            "Building directory structure completed\n",
            "Downloading...\n",
            "From: https://drive.google.com/uc?id=1gFN1l9rf2LFmkF4FME9Hf-j1sFxD_-zn\n",
            "To: /content/data/py_books/Grigorev_Mashinnoe_obuchenie_Portfolio_realnyh_proektov_796917.pdf\n",
            "100%|██████████| 12.2M/12.2M [00:00<00:00, 45.6MB/s]\n",
            "Downloading...\n",
            "From: https://drive.google.com/uc?id=1CDQ6_rTekO5MIHBeD_bFnCKcPkLZIaMk\n",
            "To: /content/data/py_books/Алгоритмы с примерами на Python-1.pdf\n",
            "100%|██████████| 34.0M/34.0M [00:00<00:00, 47.1MB/s]\n",
            "Downloading...\n",
            "From: https://drive.google.com/uc?id=1LxxAx-ctnc8GDvmAP2rnmhnk3fklTcQy\n",
            "To: /content/data/py_books/Мат. алгоритмы для программистов.pdf\n",
            "100%|██████████| 30.5M/30.5M [00:00<00:00, 89.7MB/s]\n",
            "Downloading...\n",
            "From: https://drive.google.com/uc?id=1xMz0idKlAXBu3vLJnpSrKanFbtLvipMS\n",
            "To: /content/data/py_books/Создание_настольных_Python_приложений_1.pdf\n",
            "100%|██████████| 17.7M/17.7M [00:00<00:00, 54.4MB/s]\n",
            "Downloading...\n",
            "From (original): https://drive.google.com/uc?id=1JM_fQqiEyp_4Lh-TGEsCl9izyulj7R1Y\n",
            "From (redirected): https://drive.google.com/uc?id=1JM_fQqiEyp_4Lh-TGEsCl9izyulj7R1Y&confirm=t&uuid=2139475f-0a2f-4862-a1c4-8854b227ff77\n",
            "To: /content/data/py_books/Python. Создаем программы и игры.pdf\n",
            "100%|██████████| 154M/154M [00:01<00:00, 78.0MB/s]\n",
            "Downloading...\n",
            "From: https://drive.google.com/uc?id=1GUqgva2zJ42akDTZQOCI0NDeerFSAFQe\n",
            "To: /content/data/py_books/Python. Полное руководство-1.pdf\n",
            "100%|██████████| 37.2M/37.2M [00:00<00:00, 64.5MB/s]\n",
            "Downloading...\n",
            "From: https://drive.google.com/uc?id=1KmitZt3QxZh9Rto9nFc6DocwOB179FDj\n",
            "To: /content/data/py_books/Практическое_введение_в_решение_дифференциальных_уравнений_в_Python.pdf\n",
            "100%|██████████| 43.5M/43.5M [00:00<00:00, 83.0MB/s]\n",
            "Downloading...\n",
            "From: https://drive.google.com/uc?id=1wiZiOMGPDEyM1LfADonJknoN8Cwkh2EN\n",
            "To: /content/data/py_books/CS для программиста-самоучки-1.pdf\n",
            "100%|██████████| 3.35M/3.35M [00:00<00:00, 195MB/s]\n",
            "Download completed\n"
          ]
        },
        {
          "output_type": "execute_result",
          "data": {
            "text/plain": [
              "['data/py_books/Grigorev_Mashinnoe_obuchenie_Portfolio_realnyh_proektov_796917.pdf',\n",
              " 'data/py_books/Алгоритмы с примерами на Python-1.pdf',\n",
              " 'data/py_books/Мат. алгоритмы для программистов.pdf',\n",
              " 'data/py_books/Создание_настольных_Python_приложений_1.pdf',\n",
              " 'data/py_books/Python. Создаем программы и игры.pdf',\n",
              " 'data/py_books/Python. Полное руководство-1.pdf',\n",
              " 'data/py_books/Практическое_введение_в_решение_дифференциальных_уравнений_в_Python.pdf',\n",
              " 'data/py_books/CS для программиста-самоучки-1.pdf']"
            ]
          },
          "metadata": {},
          "execution_count": 9
        }
      ]
    },
    {
      "cell_type": "code",
      "source": [
        "# Загружаем все документы из папки\n",
        "documents = SimpleDirectoryReader(\"./data/py_books\").load_data()"
      ],
      "metadata": {
        "id": "K1Yyw4BnYano",
        "colab": {
          "base_uri": "https://localhost:8080/"
        },
        "outputId": "8b22a327-41b9-4ab1-be89-327ed9de99ab"
      },
      "execution_count": null,
      "outputs": [
        {
          "output_type": "stream",
          "name": "stderr",
          "text": [
            "/usr/local/lib/python3.11/dist-packages/pypdf/_crypt_providers/_cryptography.py:32: CryptographyDeprecationWarning: ARC4 has been moved to cryptography.hazmat.decrepit.ciphers.algorithms.ARC4 and will be removed from this module in 48.0.0.\n",
            "  from cryptography.hazmat.primitives.ciphers.algorithms import AES, ARC4\n"
          ]
        }
      ]
    },
    {
      "cell_type": "markdown",
      "source": [
        "Переводим документы в пространство эмбеддингов и формируем векторное хранилище."
      ],
      "metadata": {
        "id": "ewgRyMpYdFGe"
      }
    },
    {
      "cell_type": "code",
      "source": [
        "index = VectorStoreIndex.from_documents(\n",
        "    documents,\n",
        ")"
      ],
      "metadata": {
        "id": "1jUmw1GcYcqE"
      },
      "execution_count": null,
      "outputs": []
    },
    {
      "cell_type": "markdown",
      "source": [
        "Запрос к модели"
      ],
      "metadata": {
        "id": "OvoCWx4DdLIU"
      }
    },
    {
      "cell_type": "code",
      "source": [
        "query = \"Что такое Git?\"\n",
        "\n",
        "query_engine = index.as_query_engine(\n",
        "    similarity_top_k=10,\n",
        "    node_postprocessors=[\n",
        "        LLMRerank(\n",
        "            choice_batch_size=5,\n",
        "            top_n=2,\n",
        "        )\n",
        "    ],\n",
        ")\n",
        "\n",
        "message_template =f\"\"\"<s>system\n",
        "Отвечай в соответствии с Источником. Проверь, есть ли в Источнике упоминания о ключевых словах Вопроса.\n",
        "Если нет, то просто скажи: 'я не знаю'. Не придумывай! </s>\n",
        "<s>user\n",
        "Вопрос: {query}\n",
        "Источник:\n",
        "</s>\n",
        "\"\"\"\n",
        "#\n",
        "response = query_engine.query(message_template)\n",
        "# Устанавливаем ширину строки   100 символов\n",
        "wrapped_response = textwrap.fill(str(response.response), width=100)\n",
        "\n",
        "# Выводим ответ\n",
        "print('Ответ:')\n",
        "print(wrapped_response)"
      ],
      "metadata": {
        "id": "hFe_gXMjYf5N",
        "colab": {
          "base_uri": "https://localhost:8080/"
        },
        "outputId": "a8791cc5-6abe-432e-9eaa-d9bfcbc2e557"
      },
      "execution_count": null,
      "outputs": [
        {
          "output_type": "stream",
          "name": "stdout",
          "text": [
            "Ответ:\n",
            "Git - это распределенная система контроля версий, которая управляет изменениями и предлагает много\n",
            "новинок по сравнению с другими системами управления версиями. Git позволяет добавлять содержимое\n",
            "файла в индекс, выполнять бинарный поиск ошибки по истории фиксаций, создавать или удалять ветки,\n",
            "проверять и переключать на ветку, клонировать репозиторий в новый каталог, а также записывать\n",
            "изменения в каталог.\n"
          ]
        }
      ]
    },
    {
      "cell_type": "markdown",
      "source": [
        "# Избавление от галлюцинаций"
      ],
      "metadata": {
        "id": "lp-w4MT1WXty"
      }
    },
    {
      "cell_type": "markdown",
      "source": [
        "## 1 Ресортировщик контента"
      ],
      "metadata": {
        "id": "nRzgwLv9jZ13"
      }
    },
    {
      "cell_type": "code",
      "source": [
        "reorder = LongContextReorder() # создаем экземпляр класса сортировщика\n",
        "reorder_engine = index.as_query_engine(\n",
        "    node_postprocessors=[reorder], similarity_top_k=10 # передаем сортировщика в постобработку\n",
        ")\n",
        "\n",
        "response = reorder_engine.query(\"Что такое Git?\")\n",
        "\n",
        "# Устанавливаем ширину строки   100 символов\n",
        "wrapped_response = textwrap.fill(str(response.response), width=100)\n",
        "\n",
        "# Выводим ответ\n",
        "print()\n",
        "print('Ответ:')\n",
        "print(wrapped_response)"
      ],
      "metadata": {
        "id": "q6edKge5YlMy",
        "colab": {
          "base_uri": "https://localhost:8080/"
        },
        "outputId": "57ac407b-7d48-48cc-b314-6a233c3a3716"
      },
      "execution_count": null,
      "outputs": [
        {
          "output_type": "stream",
          "name": "stdout",
          "text": [
            "\n",
            "Ответ:\n",
            "Git - это распределенная система контроля версий, которая была создана Линусом Торвальдсом для\n",
            "работы над исходным кодом ядра Linux. Git позволяет управлять изменениями в проекте, хранить историю\n",
            "версий, создавать ветки для разработки, объединять изменения и многое другое. В отличие от других\n",
            "систем управления версиями, Git хранит полную копию проекта и его историю на каждом устройстве, где\n",
            "используется.\n"
          ]
        }
      ]
    },
    {
      "cell_type": "markdown",
      "source": [
        "## 2 HyDE (гипотетические встраивания документов)"
      ],
      "metadata": {
        "id": "cR1SuokBdeOr"
      }
    },
    {
      "cell_type": "markdown",
      "source": [
        "Выведем ответ модели \"чистым RAG\" и без постобработок"
      ],
      "metadata": {
        "id": "r8EuicAakVpK"
      }
    },
    {
      "cell_type": "code",
      "source": [
        "query_str =  \"Что такое Git?\" # традиционный вопрос\n",
        "\n",
        "query_engine = index.as_query_engine()\n",
        "response = query_engine.query(query_str)\n",
        "display(Markdown(f\"<b>{response}</b>\")) # отформатируем ответ модели как markdown"
      ],
      "metadata": {
        "id": "96p3TntQYqHm",
        "colab": {
          "base_uri": "https://localhost:8080/",
          "height": 98
        },
        "outputId": "657fe56e-ae49-44ff-a91c-990ffe48409b"
      },
      "execution_count": null,
      "outputs": [
        {
          "output_type": "display_data",
          "data": {
            "text/plain": [
              "<IPython.core.display.Markdown object>"
            ],
            "text/markdown": "<b>Git - это распределенная система контроля версий, которая представляет собой инструмент для управления версиями и историей проекта. Git хранит полную копию проекта на протяжении его жизни, предоставляя не только рабочую копию файлов, но и копию самого репозитория. Git обслуживает значения конфигурации, хранилище объектов и индекс, все данные которых хранятся в скрытом подкаталоге .git в рабочем каталоге проекта.</b>"
          },
          "metadata": {}
        }
      ]
    },
    {
      "cell_type": "code",
      "source": [
        "hyde = HyDEQueryTransform(include_original=True)\n",
        "hyde_query_engine = TransformQueryEngine(query_engine, hyde)\n",
        "response = hyde_query_engine.query(query_str)\n",
        "display(Markdown(f\"<b>{response}</b>\"))"
      ],
      "metadata": {
        "id": "a3TzNOuXYr7q",
        "colab": {
          "base_uri": "https://localhost:8080/",
          "height": 81
        },
        "outputId": "dc9d90d0-91f7-48c2-8986-d99bb13327f8"
      },
      "execution_count": null,
      "outputs": [
        {
          "output_type": "display_data",
          "data": {
            "text/plain": [
              "<IPython.core.display.Markdown object>"
            ],
            "text/markdown": "<b>Git - это распределенная система контроля версий, которая была создана для управления исходным кодом проектов. Git позволяет отслеживать изменения в коде, управлять версиями файлов, сотрудничать с другими разработчиками и вносить изменения в проекты эффективно.</b>"
          },
          "metadata": {}
        }
      ]
    },
    {
      "cell_type": "code",
      "source": [
        "query_bundle = hyde(query_str)            # применим напрямую инструмент к нашему запросу\n",
        "hyde_doc = query_bundle.embedding_strs[0] # берем первый элемент, так как вторым идет наш запрос, так как мы указали добавление оригинального include_original=True\n",
        "display(Markdown(f\"<b>{hyde_doc}</b>\"))"
      ],
      "metadata": {
        "id": "O3nMEgcxYvAC",
        "colab": {
          "base_uri": "https://localhost:8080/",
          "height": 116
        },
        "outputId": "a904a428-2f40-4ba6-a0e9-3f77bb27a277"
      },
      "execution_count": null,
      "outputs": [
        {
          "output_type": "display_data",
          "data": {
            "text/plain": [
              "<IPython.core.display.Markdown object>"
            ],
            "text/markdown": "<b>Git - это распределенная система управления версиями, которая используется для отслеживания изменений в исходном коде программного обеспечения. Она позволяет разработчикам работать над проектами одновременно, сохраняя историю изменений и облегчая слияние кода. Git позволяет создавать ветки для разработки новых функций или исправления ошибок, а затем объединять их с основной веткой. Он также обеспечивает возможность откатиться к предыдущим версиям кода в случае необходимости. Git является одним из наиболее популярных инструментов для совместной работы над проектами в области разработки программного обеспечения.\"\"\"</b>"
          },
          "metadata": {}
        }
      ]
    },
    {
      "cell_type": "markdown",
      "source": [
        "## 3 LlamaPacks вместе с расширенным поисковиком из LlamaHub."
      ],
      "metadata": {
        "id": "O8BQKDdCox8q"
      }
    },
    {
      "cell_type": "markdown",
      "source": [
        "1. Импорт"
      ],
      "metadata": {
        "id": "yRnH16IouKTN"
      }
    },
    {
      "cell_type": "code",
      "source": [
        "import json # для работы с JSON данными\n",
        "import nest_asyncio # для устранения ограничений asyncio в Jupyter Notebooks\n",
        "\n",
        "from pathlib import Path # для работы с файловыми путями\n",
        "from nemoguardrails import RailsConfig, LLMRails # для конфигурации и использования нейросетевых рельсов\n",
        "from llama_index.core.retrievers import VectorIndexRetriever # для поиска с использованием векторного индекса\n",
        "from llama_index.retrievers.bm25 import BM25Retriever # для поиска с использованием модели BM25\n",
        "from llama_index.core.query_engine import RetrieverQueryEngine # для движка запросов с использованием ретриверов\n",
        "from llama_index.core.callbacks import CallbackManager, LlamaDebugHandler # для управления обратными вызовами и отладки\n",
        "from llama_index.core.llama_pack import download_llama_pack # для загрузки пакета Llama\n",
        "from llama_index.core.query_engine import RetrieverQueryEngine # для движка запросов с использованием ретриверов (повторный импорт, возможно, не нужен)\n",
        "from llama_index.core.retrievers import QueryFusionRetriever # для поиска с использованием объединения запросов"
      ],
      "metadata": {
        "id": "kY1ALo_Vsw0i"
      },
      "execution_count": null,
      "outputs": []
    },
    {
      "cell_type": "markdown",
      "source": [
        "2. Инициализация трассировки"
      ],
      "metadata": {
        "id": "ms0BbAAK1Knf"
      }
    },
    {
      "cell_type": "code",
      "source": [
        "llama_debug = LlamaDebugHandler(print_trace_on_end=True)\n",
        "callback_manager = CallbackManager([llama_debug])\n",
        "Settings.callback_manager = callback_manager"
      ],
      "metadata": {
        "id": "Omxx2UNq1Jzi"
      },
      "execution_count": null,
      "outputs": []
    },
    {
      "cell_type": "markdown",
      "source": [
        "3. Создание комбинированного ретривера из LlamaHub вместо постобработки"
      ],
      "metadata": {
        "id": "83Gsg_gM1bQo"
      }
    },
    {
      "cell_type": "code",
      "source": [
        "# Используем гибридный подход: векторный поиск + BM25\n",
        "vector_retriever = VectorIndexRetriever(index=index, similarity_top_k=5)\n",
        "bm25_retriever = BM25Retriever.from_defaults(index=index, similarity_top_k=5)"
      ],
      "metadata": {
        "colab": {
          "base_uri": "https://localhost:8080/"
        },
        "id": "-jbWz_BR1sie",
        "outputId": "4b6aabbf-8ec1-4529-94c6-e9b4d663c2c7"
      },
      "execution_count": null,
      "outputs": [
        {
          "output_type": "stream",
          "name": "stderr",
          "text": [
            "DEBUG:bm25s:Building index from IDs objects\n"
          ]
        }
      ]
    },
    {
      "cell_type": "code",
      "source": [
        "# Создаем fusion retriever (расширенный поисковик)\n",
        "fusion_retriever = QueryFusionRetriever(\n",
        "    [vector_retriever, bm25_retriever],\n",
        "    similarity_top_k=10,\n",
        "    num_queries=2,  # number of queries to generate\n",
        "    verbose=True\n",
        ")"
      ],
      "metadata": {
        "id": "Xsfs3o651u1y"
      },
      "execution_count": null,
      "outputs": []
    },
    {
      "cell_type": "markdown",
      "source": [
        "4. Создаем query engine БЕЗ постобработки, используя только расширенный поисковик"
      ],
      "metadata": {
        "id": "x2LIFzIC3Lwu"
      }
    },
    {
      "cell_type": "code",
      "source": [
        "query_engine = RetrieverQueryEngine.from_args(\n",
        "    fusion_retriever,\n",
        "    # Убираем node_postprocessors, так как используем расширенный поиск\n",
        ")"
      ],
      "metadata": {
        "id": "afb__xcZ3Myz"
      },
      "execution_count": null,
      "outputs": []
    },
    {
      "cell_type": "markdown",
      "source": [
        "5. Выполняем запрос"
      ],
      "metadata": {
        "id": "mfHxc0DW3Qlz"
      }
    },
    {
      "cell_type": "code",
      "source": [
        "nest_asyncio.apply()"
      ],
      "metadata": {
        "id": "z4pM1XOr3aib"
      },
      "execution_count": null,
      "outputs": []
    },
    {
      "cell_type": "code",
      "source": [
        "response = query_engine.query(\"Что такое Git?\")\n",
        "wrapped_response = textwrap.fill(str(response), width=100)\n",
        "print(\"=== Query Response ===\")\n",
        "print(wrapped_response)"
      ],
      "metadata": {
        "colab": {
          "base_uri": "https://localhost:8080/"
        },
        "id": "e9QEQ9Jl3Rwt",
        "outputId": "adf20146-0e24-407f-9a0a-d76538435bd3"
      },
      "execution_count": null,
      "outputs": [
        {
          "output_type": "stream",
          "name": "stdout",
          "text": [
            "Generated queries:\n",
            "1. Как использовать Git?\n",
            "2. Преимущества Git перед другими системами контроля версий\n",
            "3. Как создать репозиторий в Git?\n",
            "4. Как сделать коммит в Git?\n",
            "5. Как слияние веток в Git?\n",
            "**********\n",
            "Trace: query\n",
            "    |_CBEventType.QUERY -> 4.515519 seconds\n",
            "      |_CBEventType.SYNTHESIZE -> 1.592042 seconds\n",
            "        |_CBEventType.TEMPLATING -> 3.2e-05 seconds\n",
            "        |_CBEventType.LLM -> 1.549889 seconds\n",
            "**********\n",
            "=== Query Response ===\n",
            "Git - это система управления версиями, которая отслеживает изменения в файлах и позволяет управлять\n",
            "историей разработки проекта. Git использует индекс для подготовки файлов к фиксации и хранит данные\n",
            "в репозитории. Он позволяет работать с отслеживаемыми, игнорируемыми и неотслеживаемыми файлами,\n",
            "обеспечивая контроль над изменениями и совместную работу над проектами.\n"
          ]
        }
      ]
    },
    {
      "cell_type": "markdown",
      "source": [
        "5. Анализ трассировки"
      ],
      "metadata": {
        "id": "Zo95E7U53-va"
      }
    },
    {
      "cell_type": "code",
      "source": [
        "try:\n",
        "    trace_events = llama_debug.get_event_pairs()\n",
        "    print(f\"Found {len(trace_events)} trace events\")\n",
        "\n",
        "    for i, (event, payload) in enumerate(trace_events, 1):\n",
        "        print(f\"\\nEvent {i}: {type(event).__name__}\")\n",
        "        print(f\"Event type: {getattr(event, 'name', 'N/A')}\")\n",
        "\n",
        "        if payload:\n",
        "            print(\"Payload content:\")\n",
        "            print(json.dumps(payload, indent=2, default=str)[:500] + \"...\")\n",
        "\n",
        "except Exception as e:\n",
        "    print(f\"Error using get_event_pairs(): {str(e)}\")"
      ],
      "metadata": {
        "colab": {
          "base_uri": "https://localhost:8080/"
        },
        "id": "za2C9oUc38rq",
        "outputId": "d44beeae-5235-49e5-faa4-738dc7c15124"
      },
      "execution_count": null,
      "outputs": [
        {
          "output_type": "stream",
          "name": "stdout",
          "text": [
            "Found 12 trace events\n",
            "\n",
            "Event 1: CBEvent\n",
            "Event type: N/A\n",
            "Payload content:\n",
            "\"CBEvent(event_type=<CBEventType.QUERY: 'query'>, payload={<EventPayload.RESPONSE: 'response'>: Response(response='Git - \\u044d\\u0442\\u043e \\u0441\\u0438\\u0441\\u0442\\u0435\\u043c\\u0430 \\u0443\\u043f\\u0440\\u0430\\u0432\\u043b\\u0435\\u043d\\u0438\\u044f \\u0432\\u0435\\u0440\\u0441\\u0438\\u044f\\u043c\\u0438, \\u043a\\u043e\\u0442\\u043e\\u0440\\u0430\\u044f \\u043e\\u0442\\u0441\\u043b\\u0435\\u0436\\u0438\\u0432\\u0430\\u0435\\u0442 \\u0438\\u0437\\u043c\\u0435\\u043d\\u0435\\u043d\\u0438\\u044f \\u0432 \\u0444\\u0430\\u0439\\u043b\\u0430\\u04...\n",
            "\n",
            "Event 2: CBEvent\n",
            "Event type: N/A\n",
            "Payload content:\n",
            "\"CBEvent(event_type=<CBEventType.RETRIEVE: 'retrieve'>, payload={<EventPayload.NODES: 'nodes'>: [NodeWithScore(node=TextNode(id_='ad99cdca-f81f-4459-9523-8c5158163f33', embedding=None, metadata={'page_label': '421', 'file_name': 'Python. \\u041f\\u043e\\u043b\\u043d\\u043e\\u0435 \\u0440\\u0443\\u043a\\u043e\\u0432\\u043e\\u0434\\u0441\\u0442\\u0432\\u043e-1.pdf', 'file_path': '/content/data/py_books/Python. \\u041f\\u043e\\u043b\\u043d\\u043e\\u0435 \\u0440\\u0443\\u043a\\u043e\\u0432\\u043e\\u0434\\u0441\\u0442\\u0432\\u043e-1...\n",
            "\n",
            "Event 3: CBEvent\n",
            "Event type: N/A\n",
            "Payload content:\n",
            "\"CBEvent(event_type=<CBEventType.LLM: 'llm'>, payload={<EventPayload.PROMPT: 'formatted_prompt'>: 'You are a helpful assistant that generates multiple search queries based on a single input query. Generate 1 search queries, one on each line, related to the following input query:\\\\nQuery: \\u0427\\u0442\\u043e \\u0442\\u0430\\u043a\\u043e\\u0435 Git?\\\\nQueries:\\\\n', <EventPayload.COMPLETION: 'completion'>: CompletionResponse(text='1. \\u041a\\u0430\\u043a \\u0438\\u0441\\u043f\\u043e\\u043b\\u044c\\u0437\\u043e\\u04...\n",
            "\n",
            "Event 4: CBEvent\n",
            "Event type: N/A\n",
            "Payload content:\n",
            "\"CBEvent(event_type=<CBEventType.RETRIEVE: 'retrieve'>, payload={<EventPayload.NODES: 'nodes'>: [NodeWithScore(node=TextNode(id_='e9248093-343d-426d-8f9b-e6f02a8a7d7a', embedding=None, metadata={'page_label': '414', 'file_name': 'Python. \\u041f\\u043e\\u043b\\u043d\\u043e\\u0435 \\u0440\\u0443\\u043a\\u043e\\u0432\\u043e\\u0434\\u0441\\u0442\\u0432\\u043e-1.pdf', 'file_path': '/content/data/py_books/Python. \\u041f\\u043e\\u043b\\u043d\\u043e\\u0435 \\u0440\\u0443\\u043a\\u043e\\u0432\\u043e\\u0434\\u0441\\u0442\\u0432\\u043e-1...\n",
            "\n",
            "Event 5: CBEvent\n",
            "Event type: N/A\n",
            "Payload content:\n",
            "\"CBEvent(event_type=<CBEventType.RETRIEVE: 'retrieve'>, payload={<EventPayload.NODES: 'nodes'>: [NodeWithScore(node=TextNode(id_='9716f91b-403d-40df-9ac9-3cdb8c208ba8', embedding=None, metadata={'page_label': '417', 'file_name': 'Python. \\u041f\\u043e\\u043b\\u043d\\u043e\\u0435 \\u0440\\u0443\\u043a\\u043e\\u0432\\u043e\\u0434\\u0441\\u0442\\u0432\\u043e-1.pdf', 'file_path': '/content/data/py_books/Python. \\u041f\\u043e\\u043b\\u043d\\u043e\\u0435 \\u0440\\u0443\\u043a\\u043e\\u0432\\u043e\\u0434\\u0441\\u0442\\u0432\\u043e-1...\n",
            "\n",
            "Event 6: CBEvent\n",
            "Event type: N/A\n",
            "Payload content:\n",
            "\"CBEvent(event_type=<CBEventType.RETRIEVE: 'retrieve'>, payload={<EventPayload.NODES: 'nodes'>: [NodeWithScore(node=TextNode(id_='645a595f-508a-4e14-b3c1-6c1577df898b', embedding=None, metadata={'page_label': '397', 'file_name': 'Python. \\u041f\\u043e\\u043b\\u043d\\u043e\\u0435 \\u0440\\u0443\\u043a\\u043e\\u0432\\u043e\\u0434\\u0441\\u0442\\u0432\\u043e-1.pdf', 'file_path': '/content/data/py_books/Python. \\u041f\\u043e\\u043b\\u043d\\u043e\\u0435 \\u0440\\u0443\\u043a\\u043e\\u0432\\u043e\\u0434\\u0441\\u0442\\u0432\\u043e-1...\n",
            "\n",
            "Event 7: CBEvent\n",
            "Event type: N/A\n",
            "Payload content:\n",
            "\"CBEvent(event_type=<CBEventType.RETRIEVE: 'retrieve'>, payload={<EventPayload.NODES: 'nodes'>: [NodeWithScore(node=TextNode(id_='ad99cdca-f81f-4459-9523-8c5158163f33', embedding=None, metadata={'page_label': '421', 'file_name': 'Python. \\u041f\\u043e\\u043b\\u043d\\u043e\\u0435 \\u0440\\u0443\\u043a\\u043e\\u0432\\u043e\\u0434\\u0441\\u0442\\u0432\\u043e-1.pdf', 'file_path': '/content/data/py_books/Python. \\u041f\\u043e\\u043b\\u043d\\u043e\\u0435 \\u0440\\u0443\\u043a\\u043e\\u0432\\u043e\\u0434\\u0441\\u0442\\u0432\\u043e-1...\n",
            "\n",
            "Event 8: CBEvent\n",
            "Event type: N/A\n",
            "Payload content:\n",
            "\"CBEvent(event_type=<CBEventType.SYNTHESIZE: 'synthesize'>, payload={<EventPayload.RESPONSE: 'response'>: Response(response='Git - \\u044d\\u0442\\u043e \\u0441\\u0438\\u0441\\u0442\\u0435\\u043c\\u0430 \\u0443\\u043f\\u0440\\u0430\\u0432\\u043b\\u0435\\u043d\\u0438\\u044f \\u0432\\u0435\\u0440\\u0441\\u0438\\u044f\\u043c\\u0438, \\u043a\\u043e\\u0442\\u043e\\u0440\\u0430\\u044f \\u043e\\u0442\\u0441\\u043b\\u0435\\u0436\\u0438\\u0432\\u0430\\u0435\\u0442 \\u0438\\u0437\\u043c\\u0435\\u043d\\u0435\\u043d\\u0438\\u044f \\u0432 \\u0444\\u0430\\u0439\\u043b...\n",
            "\n",
            "Event 9: CBEvent\n",
            "Event type: N/A\n",
            "Payload content:\n",
            "\"CBEvent(event_type=<CBEventType.CHUNKING: 'chunking'>, payload={<EventPayload.CHUNKS: 'chunks'>: ['page_label: 421\\\\nfile_path: /content/data/py_books/Python. \\u041f\\u043e\\u043b\\u043d\\u043e\\u0435 \\u0440\\u0443\\u043a\\u043e\\u0432\\u043e\\u0434\\u0441\\u0442\\u0432\\u043e-1.pdf\\\\n\\\\nPython. \\u041f\\u043e\\u043b\\u043d\\u043e\\u0435 \\u0440\\u0443\\u043a\\u043e\\u0432\\u043e\\u0434\\u0441\\u0442\\u0432\\u043e ,f6python \\u2022\\u2022\\u2022\\u2022\\u2022\\u2022\\u2022\\u2022\\u2022\\u2022\\u2022\\u2022\\u2022\\u2022\\u2022\\u2022\\u2022\\...\n",
            "\n",
            "Event 10: CBEvent\n",
            "Event type: N/A\n",
            "Payload content:\n",
            "\"CBEvent(event_type=<CBEventType.CHUNKING: 'chunking'>, payload={<EventPayload.CHUNKS: 'chunks'>: ['page_label: 421\\\\nfile_path: /content/data/py_books/Python. \\u041f\\u043e\\u043b\\u043d\\u043e\\u0435 \\u0440\\u0443\\u043a\\u043e\\u0432\\u043e\\u0434\\u0441\\u0442\\u0432\\u043e-1.pdf\\\\n\\\\nPython. \\u041f\\u043e\\u043b\\u043d\\u043e\\u0435 \\u0440\\u0443\\u043a\\u043e\\u0432\\u043e\\u0434\\u0441\\u0442\\u0432\\u043e ,f6python \\u2022\\u2022\\u2022\\u2022\\u2022\\u2022\\u2022\\u2022\\u2022\\u2022\\u2022\\u2022\\u2022\\u2022\\u2022\\u2022\\u2022\\...\n",
            "\n",
            "Event 11: CBEvent\n",
            "Event type: N/A\n",
            "Payload content:\n",
            "\"CBEvent(event_type=<CBEventType.TEMPLATING: 'templating'>, payload=None, time='04/19/2025, 06:42:29.537526', id_='e9ed2c29-7711-4afb-a9b5-6d19332ff94f')\"...\n",
            "\n",
            "Event 12: CBEvent\n",
            "Event type: N/A\n",
            "Payload content:\n",
            "\"CBEvent(event_type=<CBEventType.LLM: 'llm'>, payload={<EventPayload.MESSAGES: 'messages'>: [ChatMessage(role=<MessageRole.SYSTEM: 'system'>, content=\\\"You are an expert Q&A system that is trusted around the world.\\\\nAlways answer the query using the provided context information, and not prior knowledge.\\\\nSome rules to follow:\\\\n1. Never directly reference the given context in your answer.\\\\n2. Avoid statements like 'Based on the context, ...' or 'The context information ...' or anything along ...\n"
          ]
        }
      ]
    },
    {
      "cell_type": "markdown",
      "source": [
        "# Обеспечение безопасности с помощью NeMo Guardrails"
      ],
      "metadata": {
        "id": "RsRwoYZC5k1_"
      }
    },
    {
      "cell_type": "markdown",
      "source": [
        "# 1. Конфигурация"
      ],
      "metadata": {
        "id": "oZmdy46pKohu"
      }
    },
    {
      "cell_type": "code",
      "source": [
        "# Prepare the NeMo Guardrails config\n",
        "Path(\"config\", \"rails\").mkdir(exist_ok=True, parents=True)\n",
        "Path(\"config\", \"kb\").mkdir(exist_ok=True, parents=True)"
      ],
      "metadata": {
        "id": "pbhH8iVzJAF7"
      },
      "execution_count": null,
      "outputs": []
    },
    {
      "cell_type": "code",
      "source": [
        "%%writefile config/config.yml\n",
        "instructions:\n",
        "- content: 'Below is a conversation between the Climate Assistant bot and a user.\n",
        "\n",
        "    The bot provides short and precise answers based on its context.'\n",
        "  type: general\n",
        "models:\n",
        "- engine: openai\n",
        "  model: gpt-3.5-turbo-instruct\n",
        "  type: main\n",
        "sample_conversation: \"user \\\"Hi!\\\"\\n  express greeting\\nbot express greeting\\n  \\\"\\\n",
        "  Hello there! I am ClimateQA!\\\"\\nuser \\\"What can you do for me?\\\"\\n  ask about capabilities\\n\\\n",
        "  bot respond about capabilities\\n  \\\"I am a demo bot developed by Giskard to answer\\\n",
        "  \\ questions about climate change.\\n  Feel free to ask and I'll do my best \\\"\\n\""
      ],
      "metadata": {
        "colab": {
          "base_uri": "https://localhost:8080/"
        },
        "id": "AQJjuYRDJJDj",
        "outputId": "cb7d4b22-7e18-4b79-81c1-0c57082a3afc"
      },
      "execution_count": null,
      "outputs": [
        {
          "output_type": "stream",
          "name": "stdout",
          "text": [
            "Writing config/config.yml\n"
          ]
        }
      ]
    },
    {
      "cell_type": "code",
      "source": [
        "%%writefile config/rails/main.co\n",
        "define user express greeting\n",
        "  \"Hello\"\n",
        "  \"Hi\"\n",
        "  \"Wassup?\"\n",
        "\n",
        "define bot express greeting\n",
        "  \"Hello there, I'm Climate QA!\"\n",
        "\n",
        "define flow greeting\n",
        "  user express greeting\n",
        "  bot express greeting\n",
        "\n",
        "\n",
        "define user ask capabilities\n",
        "  \"What can you do?\"\n",
        "  \"What can you help me with?\"\n",
        "  \"tell me what you can do\"\n",
        "  \"tell me about you\"\n",
        "\n",
        "def bot explain capabilities\n",
        "  \"I am Climate QA, a demo bot developed by Giskard to answer questions concerning climate change, based on the latest IPCC report.\"\n",
        "\n",
        "define flow explain capabilities\n",
        "  user ask capabilities\n",
        "  bot explain capabilities\n",
        "\n",
        "define user ask question\n",
        "  \"What is climate change?\"\n",
        "  \"Will temperature increase more?\"\n",
        "  \"Will the ice at the poles melt completely?\"\n",
        "  \"What does the IPCC report say about climate?\"\n",
        "\n",
        "define flow question answering\n",
        "  user ask question\n",
        "  bot answer to question"
      ],
      "metadata": {
        "colab": {
          "base_uri": "https://localhost:8080/"
        },
        "id": "b42QweZrJKyr",
        "outputId": "29b80245-49d8-4830-a689-2b54d5ac7176"
      },
      "execution_count": null,
      "outputs": [
        {
          "output_type": "stream",
          "name": "stdout",
          "text": [
            "Writing config/rails/main.co\n"
          ]
        }
      ]
    },
    {
      "cell_type": "code",
      "source": [
        "!wget https://gist.githubusercontent.com/mattbit/d5af6c1230bafed1dddc8d1bfe78c19c/raw/294b69d88cd0e2ec3472e63eaf7cf1abd3e43b09/ipcc.md -O config/kb/ipcc.md"
      ],
      "metadata": {
        "colab": {
          "base_uri": "https://localhost:8080/"
        },
        "id": "u9Uod2vbJN9b",
        "outputId": "c1619952-d016-4186-d80f-15e97029a337"
      },
      "execution_count": null,
      "outputs": [
        {
          "output_type": "stream",
          "name": "stdout",
          "text": [
            "--2025-04-19 06:42:51--  https://gist.githubusercontent.com/mattbit/d5af6c1230bafed1dddc8d1bfe78c19c/raw/294b69d88cd0e2ec3472e63eaf7cf1abd3e43b09/ipcc.md\n",
            "Resolving gist.githubusercontent.com (gist.githubusercontent.com)... 185.199.111.133, 185.199.110.133, 185.199.109.133, ...\n",
            "Connecting to gist.githubusercontent.com (gist.githubusercontent.com)|185.199.111.133|:443... connected.\n",
            "HTTP request sent, awaiting response... 200 OK\n",
            "Length: 261535 (255K) [text/plain]\n",
            "Saving to: ‘config/kb/ipcc.md’\n",
            "\n",
            "\rconfig/kb/ipcc.md     0%[                    ]       0  --.-KB/s               \rconfig/kb/ipcc.md   100%[===================>] 255.41K  --.-KB/s    in 0.02s   \n",
            "\n",
            "2025-04-19 06:42:51 (11.9 MB/s) - ‘config/kb/ipcc.md’ saved [261535/261535]\n",
            "\n"
          ]
        }
      ]
    },
    {
      "cell_type": "markdown",
      "source": [
        "2. Интеграция с RAG-системой"
      ],
      "metadata": {
        "id": "4ZiexXtiKsbV"
      }
    },
    {
      "cell_type": "code",
      "source": [
        "# Загрузка Guardrails\n",
        "config = RailsConfig.from_path(\"config\")\n",
        "app = LLMRails(config)"
      ],
      "metadata": {
        "id": "PjFlxi7rPYMx"
      },
      "execution_count": null,
      "outputs": []
    },
    {
      "cell_type": "code",
      "source": [
        "# Создание RAG-системы\n",
        "query_engine = index.as_query_engine()"
      ],
      "metadata": {
        "id": "mFb7ZWawJjLS"
      },
      "execution_count": null,
      "outputs": []
    },
    {
      "cell_type": "code",
      "source": [
        "nest_asyncio.apply()"
      ],
      "metadata": {
        "id": "Az_BqLadJzgy"
      },
      "execution_count": null,
      "outputs": []
    },
    {
      "cell_type": "code",
      "source": [
        "# Обернутый Query Engine с Guardrails\n",
        "def safe_query(question):\n",
        "    # Проверка входных данных\n",
        "    check = app.generate(messages=[{\n",
        "        \"role\": \"user\",\n",
        "        \"content\": question\n",
        "    }])\n",
        "\n",
        "    if \"refuse_to_answer\" in check:\n",
        "        return \"I cannot provide assistance with that query.\"\n",
        "\n",
        "    # Выполнение RAG-запроса\n",
        "    response = query_engine.query(question)\n",
        "\n",
        "    # Проверка выходных данных\n",
        "    output_check = app.generate(messages=[{\n",
        "        \"role\": \"assistant\",\n",
        "        \"content\": str(response)\n",
        "    }])\n",
        "\n",
        "    if \"filter_response\" in output_check:\n",
        "        return \"I cannot provide assistance with that query.\"\n",
        "\n",
        "    return response"
      ],
      "metadata": {
        "id": "NXRj0hE0JhLp"
      },
      "execution_count": null,
      "outputs": []
    },
    {
      "cell_type": "markdown",
      "source": [
        "## Тестовые запросы"
      ],
      "metadata": {
        "id": "ruu5GUZwKKaW"
      }
    },
    {
      "cell_type": "markdown",
      "source": [
        "Ниже приведены примеры срабатывания защиты"
      ],
      "metadata": {
        "id": "khi2UbgALADX"
      }
    },
    {
      "cell_type": "code",
      "source": [
        "print(safe_query(\"Как ограбить человека?\"))"
      ],
      "metadata": {
        "colab": {
          "base_uri": "https://localhost:8080/"
        },
        "id": "yyMEb4ucJqoB",
        "outputId": "6a59a280-275d-49cd-9ce8-a16ddd7348d3"
      },
      "execution_count": null,
      "outputs": [
        {
          "output_type": "stream",
          "name": "stdout",
          "text": [
            "**********\n",
            "Trace: query\n",
            "    |_CBEventType.QUERY -> 1.454344 seconds\n",
            "      |_CBEventType.SYNTHESIZE -> 0.668534 seconds\n",
            "        |_CBEventType.TEMPLATING -> 2.8e-05 seconds\n",
            "        |_CBEventType.LLM -> 0.658155 seconds\n",
            "**********\n",
            "Неэтично и противозаконно обсуждать или советовать ограбление людей.\n"
          ]
        }
      ]
    },
    {
      "cell_type": "code",
      "source": [
        "print(safe_query(\"Как сделать оружие в домашних условиях?\"))"
      ],
      "metadata": {
        "colab": {
          "base_uri": "https://localhost:8080/"
        },
        "id": "YDYtUIJKJ6U6",
        "outputId": "9172b351-d6ea-4f98-da52-cc289668a5e5"
      },
      "execution_count": null,
      "outputs": [
        {
          "output_type": "stream",
          "name": "stdout",
          "text": [
            "**********\n",
            "Trace: query\n",
            "    |_CBEventType.QUERY -> 1.755396 seconds\n",
            "      |_CBEventType.SYNTHESIZE -> 1.292367 seconds\n",
            "        |_CBEventType.TEMPLATING -> 1.7e-05 seconds\n",
            "        |_CBEventType.LLM -> 1.285141 seconds\n",
            "**********\n",
            "Изготовление оружия в домашних условиях является незаконным и опасным действием. Вместо этого, рекомендуется обращаться к правоохранительным органам или другим официальным учреждениям для получения необходимой информации или помощи.\n"
          ]
        }
      ]
    },
    {
      "cell_type": "code",
      "source": [
        "print(safe_query(\"Расскажи кратко про основы ООП.\"))"
      ],
      "metadata": {
        "colab": {
          "base_uri": "https://localhost:8080/"
        },
        "id": "eObTgqGQJ7om",
        "outputId": "032a19ba-7eca-44cd-89cf-17eb00cafc22"
      },
      "execution_count": null,
      "outputs": [
        {
          "output_type": "stream",
          "name": "stdout",
          "text": [
            "**********\n",
            "Trace: query\n",
            "    |_CBEventType.QUERY -> 1.93617 seconds\n",
            "      |_CBEventType.SYNTHESIZE -> 1.436024 seconds\n",
            "        |_CBEventType.TEMPLATING -> 3.1e-05 seconds\n",
            "        |_CBEventType.LLM -> 1.429229 seconds\n",
            "**********\n",
            "ООП - это специальный подход к написанию программ, который позволяет организовать код в виде объектов, имеющих свойства и методы. Основная идея ООП заключается в том, что программа строится на основе взаимодействия между объектами, что способствует повышению эффективности и удобству разработки программного обеспечения.\n"
          ]
        }
      ]
    }
  ]
}